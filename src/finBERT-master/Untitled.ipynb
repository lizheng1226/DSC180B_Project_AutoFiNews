{
 "cells": [
  {
   "cell_type": "code",
   "execution_count": 2,
   "id": "af6c4784",
   "metadata": {},
   "outputs": [
    {
     "name": "stdout",
     "output_type": "stream",
     "text": [
      "\u001b[31mERROR: Could not find a version that satisfies the requirement ruamel (from versions: none)\u001b[0m\r\n",
      "\u001b[31mERROR: No matching distribution found for ruamel\u001b[0m\r\n"
     ]
    },
    {
     "ename": "ModuleNotFoundError",
     "evalue": "No module named 'ruamel'",
     "output_type": "error",
     "traceback": [
      "\u001b[0;31m---------------------------------------------------------------------------\u001b[0m",
      "\u001b[0;31mModuleNotFoundError\u001b[0m                       Traceback (most recent call last)",
      "Input \u001b[0;32mIn [2]\u001b[0m, in \u001b[0;36m<module>\u001b[0;34m\u001b[0m\n\u001b[1;32m      1\u001b[0m get_ipython()\u001b[38;5;241m.\u001b[39msystem(\u001b[38;5;124m'\u001b[39m\u001b[38;5;124mpip3 install ruamel\u001b[39m\u001b[38;5;124m'\u001b[39m)\n\u001b[0;32m----> 2\u001b[0m \u001b[38;5;28;01mimport\u001b[39;00m \u001b[38;5;21;01mruamel\u001b[39;00m\u001b[38;5;21;01m.\u001b[39;00m\u001b[38;5;21;01myaml\u001b[39;00m\n\u001b[1;32m      4\u001b[0m yaml \u001b[38;5;241m=\u001b[39m ruamel\u001b[38;5;241m.\u001b[39myaml\u001b[38;5;241m.\u001b[39mYAML()\n\u001b[1;32m      5\u001b[0m data \u001b[38;5;241m=\u001b[39m yaml\u001b[38;5;241m.\u001b[39mload(\u001b[38;5;28mopen\u001b[39m(\u001b[38;5;124m'\u001b[39m\u001b[38;5;124menvironment.yml\u001b[39m\u001b[38;5;124m'\u001b[39m))\n",
      "\u001b[0;31mModuleNotFoundError\u001b[0m: No module named 'ruamel'"
     ]
    }
   ],
   "source": [
    "!pip3 install ruamel\n",
    "import ruamel.yaml\n",
    "\n",
    "yaml = ruamel.yaml.YAML()\n",
    "data = yaml.load(open('environment.yml'))\n",
    "\n",
    "requirements = []\n",
    "for dep in data['dependencies']:\n",
    "    if isinstance(dep, str):\n",
    "        package, package_version, python_version = dep.split('=')\n",
    "        if python_version == '0':\n",
    "            continue\n",
    "        requirements.append(package + '==' + package_version)\n",
    "    elif isinstance(dep, dict):\n",
    "        for preq in dep.get('pip', []):\n",
    "            requirements.append(preq)\n",
    "\n",
    "with open('requirements.txt', 'w') as fp:\n",
    "    for requirement in requirements:\n",
    "        print(requirement, file=fp)"
   ]
  },
  {
   "cell_type": "code",
   "execution_count": null,
   "id": "33cc0041",
   "metadata": {},
   "outputs": [],
   "source": []
  }
 ],
 "metadata": {
  "kernelspec": {
   "display_name": "Python 3 (ipykernel)",
   "language": "python",
   "name": "python3"
  },
  "language_info": {
   "codemirror_mode": {
    "name": "ipython",
    "version": 3
   },
   "file_extension": ".py",
   "mimetype": "text/x-python",
   "name": "python",
   "nbconvert_exporter": "python",
   "pygments_lexer": "ipython3",
   "version": "3.9.10"
  }
 },
 "nbformat": 4,
 "nbformat_minor": 5
}
