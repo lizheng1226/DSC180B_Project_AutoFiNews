{
 "cells": [
  {
   "cell_type": "code",
   "execution_count": 1,
   "id": "bf9c83c9-f97e-4c02-a8ae-fb625f652f63",
   "metadata": {},
   "outputs": [
    {
     "name": "stdout",
     "output_type": "stream",
     "text": [
      "Init Plugin\n",
      "Init Graph Optimizer\n",
      "Init Kernel\n"
     ]
    }
   ],
   "source": [
    "import io\n",
    "import re\n",
    "import string\n",
    "import tqdm\n",
    "import pandas as pd\n",
    "import numpy as np\n",
    "from sklearn.metrics import precision_score, recall_score, accuracy_score\n",
    "import tensorflow as tf\n",
    "from tensorflow.keras import layers\n",
    "import matplotlib.pyplot as plt\n",
    "import gensim\n",
    "from gensim.test.utils import common_texts\n",
    "from gensim.models import Word2Vec"
   ]
  },
  {
   "cell_type": "code",
   "execution_count": 2,
   "id": "610a74bb-1dcf-4599-aa7e-dd30126e9a83",
   "metadata": {},
   "outputs": [],
   "source": [
    "%load_ext tensorboard"
   ]
  },
  {
   "cell_type": "code",
   "execution_count": 3,
   "id": "80f20138-a571-4889-ad66-6fd8f982d2a4",
   "metadata": {},
   "outputs": [],
   "source": [
    "SEED = 42\n",
    "AUTOTUNE = tf.data.AUTOTUNE"
   ]
  },
  {
   "cell_type": "markdown",
   "id": "ca42223e-be7c-4b03-bd7c-65539aaf3f4c",
   "metadata": {},
   "source": [
    "## Problem 1"
   ]
  },
  {
   "cell_type": "code",
   "execution_count": 4,
   "id": "0219193f-035c-4a11-9a54-a8e8a9232a17",
   "metadata": {},
   "outputs": [],
   "source": [
    "autophrase = pd.read_csv(\"Autophrase_multi-words.txt\", header = None, sep = \"\\t\")"
   ]
  },
  {
   "cell_type": "code",
   "execution_count": 5,
   "id": "23b95359-4019-4a9b-a7d8-8a7f27554caa",
   "metadata": {},
   "outputs": [
    {
     "data": {
      "text/html": [
       "<div>\n",
       "<style scoped>\n",
       "    .dataframe tbody tr th:only-of-type {\n",
       "        vertical-align: middle;\n",
       "    }\n",
       "\n",
       "    .dataframe tbody tr th {\n",
       "        vertical-align: top;\n",
       "    }\n",
       "\n",
       "    .dataframe thead th {\n",
       "        text-align: right;\n",
       "    }\n",
       "</style>\n",
       "<table border=\"1\" class=\"dataframe\">\n",
       "  <thead>\n",
       "    <tr style=\"text-align: right;\">\n",
       "      <th></th>\n",
       "      <th>0</th>\n",
       "      <th>1</th>\n",
       "    </tr>\n",
       "  </thead>\n",
       "  <tbody>\n",
       "    <tr>\n",
       "      <th>0</th>\n",
       "      <td>0.987922</td>\n",
       "      <td>histogram equalization</td>\n",
       "    </tr>\n",
       "    <tr>\n",
       "      <th>1</th>\n",
       "      <td>0.986208</td>\n",
       "      <td>point clouds</td>\n",
       "    </tr>\n",
       "    <tr>\n",
       "      <th>2</th>\n",
       "      <td>0.985326</td>\n",
       "      <td>krylov subspace</td>\n",
       "    </tr>\n",
       "    <tr>\n",
       "      <th>3</th>\n",
       "      <td>0.985084</td>\n",
       "      <td>gröbner bases</td>\n",
       "    </tr>\n",
       "    <tr>\n",
       "      <th>4</th>\n",
       "      <td>0.985036</td>\n",
       "      <td>random walk</td>\n",
       "    </tr>\n",
       "  </tbody>\n",
       "</table>\n",
       "</div>"
      ],
      "text/plain": [
       "          0                       1\n",
       "0  0.987922  histogram equalization\n",
       "1  0.986208            point clouds\n",
       "2  0.985326         krylov subspace\n",
       "3  0.985084           gröbner bases\n",
       "4  0.985036             random walk"
      ]
     },
     "execution_count": 5,
     "metadata": {},
     "output_type": "execute_result"
    }
   ],
   "source": [
    "autophrase.head()"
   ]
  },
  {
   "cell_type": "code",
   "execution_count": 6,
   "id": "972a1762-f14f-425a-89bc-3101ef07baff",
   "metadata": {},
   "outputs": [
    {
     "data": {
      "text/plain": [
       "648988"
      ]
     },
     "execution_count": 6,
     "metadata": {},
     "output_type": "execute_result"
    }
   ],
   "source": [
    "len(autophrase)"
   ]
  },
  {
   "cell_type": "code",
   "execution_count": 7,
   "id": "28ac2511-efcc-4c4b-a107-143715bd46a2",
   "metadata": {},
   "outputs": [],
   "source": [
    "autophrase_100 = autophrase[autophrase[0] > 0.5].sample(100)"
   ]
  },
  {
   "cell_type": "code",
   "execution_count": 8,
   "id": "39d34649-6476-4a94-8481-d32d097d5912",
   "metadata": {},
   "outputs": [],
   "source": [
    "autophrase_100.to_csv(\"autophrase_100.txt\", header=None, index=None, sep='\\t', mode='a')"
   ]
  },
  {
   "cell_type": "code",
   "execution_count": 9,
   "id": "7b20332e-5137-4488-90bf-abbfd8a37054",
   "metadata": {},
   "outputs": [
    {
     "name": "stdout",
     "output_type": "stream",
     "text": [
      "The percentage of high-quality phrases: 0.2\n"
     ]
    }
   ],
   "source": [
    "high_quality = len(autophrase_100[autophrase_100[0] > 0.9]) / len(autophrase_100)\n",
    "print(\"The percentage of high-quality phrases:\", high_quality)"
   ]
  },
  {
   "cell_type": "markdown",
   "id": "30e9925f-ea1e-44ee-9976-b8a2025cd259",
   "metadata": {},
   "source": [
    "## Problem 2"
   ]
  },
  {
   "cell_type": "code",
   "execution_count": 10,
   "id": "6c2564f6-663a-43fe-97a7-f0829574e138",
   "metadata": {},
   "outputs": [],
   "source": [
    "autophrase_100 = autophrase_100.rename(columns={0: \"score\", 1: \"multi_phrase\"})\n",
    "autophrase_100['high_quality'] = autophrase_100['score'].apply(lambda x: 1 if x > 0.9 else 0)\n",
    "autophrase_100.head(20)\n",
    "autophrase_100[\"cum_sum\"] = autophrase_100[\"high_quality\"].cumsum()\n",
    "autophrase_100[\"cum_index\"] = list(range(1, len(autophrase_100)+1))\n",
    "autophrase_100[\"recall\"] = autophrase_100[\"cum_sum\"] / autophrase_100[\"high_quality\"].sum()\n",
    "autophrase_100[\"precision\"] = autophrase_100[\"cum_sum\"] / autophrase_100[\"cum_index\"]"
   ]
  },
  {
   "cell_type": "code",
   "execution_count": 11,
   "id": "7ac4e886-e57d-4b23-8ce3-8c0f40fc28c4",
   "metadata": {},
   "outputs": [
    {
     "data": {
      "text/html": [
       "<div>\n",
       "<style scoped>\n",
       "    .dataframe tbody tr th:only-of-type {\n",
       "        vertical-align: middle;\n",
       "    }\n",
       "\n",
       "    .dataframe tbody tr th {\n",
       "        vertical-align: top;\n",
       "    }\n",
       "\n",
       "    .dataframe thead th {\n",
       "        text-align: right;\n",
       "    }\n",
       "</style>\n",
       "<table border=\"1\" class=\"dataframe\">\n",
       "  <thead>\n",
       "    <tr style=\"text-align: right;\">\n",
       "      <th></th>\n",
       "      <th>score</th>\n",
       "      <th>multi_phrase</th>\n",
       "      <th>high_quality</th>\n",
       "      <th>cum_sum</th>\n",
       "      <th>cum_index</th>\n",
       "      <th>recall</th>\n",
       "      <th>precision</th>\n",
       "    </tr>\n",
       "  </thead>\n",
       "  <tbody>\n",
       "    <tr>\n",
       "      <th>20429</th>\n",
       "      <td>0.907193</td>\n",
       "      <td>lipschitz constants</td>\n",
       "      <td>1</td>\n",
       "      <td>1</td>\n",
       "      <td>1</td>\n",
       "      <td>0.05</td>\n",
       "      <td>1.000000</td>\n",
       "    </tr>\n",
       "    <tr>\n",
       "      <th>102276</th>\n",
       "      <td>0.691704</td>\n",
       "      <td>mentoring program</td>\n",
       "      <td>0</td>\n",
       "      <td>1</td>\n",
       "      <td>2</td>\n",
       "      <td>0.05</td>\n",
       "      <td>0.500000</td>\n",
       "    </tr>\n",
       "    <tr>\n",
       "      <th>118324</th>\n",
       "      <td>0.653160</td>\n",
       "      <td>fpga families</td>\n",
       "      <td>0</td>\n",
       "      <td>1</td>\n",
       "      <td>3</td>\n",
       "      <td>0.05</td>\n",
       "      <td>0.333333</td>\n",
       "    </tr>\n",
       "    <tr>\n",
       "      <th>52151</th>\n",
       "      <td>0.820009</td>\n",
       "      <td>modular forms</td>\n",
       "      <td>0</td>\n",
       "      <td>1</td>\n",
       "      <td>4</td>\n",
       "      <td>0.05</td>\n",
       "      <td>0.250000</td>\n",
       "    </tr>\n",
       "    <tr>\n",
       "      <th>74929</th>\n",
       "      <td>0.758956</td>\n",
       "      <td>perceptual coding</td>\n",
       "      <td>0</td>\n",
       "      <td>1</td>\n",
       "      <td>5</td>\n",
       "      <td>0.05</td>\n",
       "      <td>0.200000</td>\n",
       "    </tr>\n",
       "  </tbody>\n",
       "</table>\n",
       "</div>"
      ],
      "text/plain": [
       "           score         multi_phrase  high_quality  cum_sum  cum_index  \\\n",
       "20429   0.907193  lipschitz constants             1        1          1   \n",
       "102276  0.691704    mentoring program             0        1          2   \n",
       "118324  0.653160        fpga families             0        1          3   \n",
       "52151   0.820009        modular forms             0        1          4   \n",
       "74929   0.758956    perceptual coding             0        1          5   \n",
       "\n",
       "        recall  precision  \n",
       "20429     0.05   1.000000  \n",
       "102276    0.05   0.500000  \n",
       "118324    0.05   0.333333  \n",
       "52151     0.05   0.250000  \n",
       "74929     0.05   0.200000  "
      ]
     },
     "execution_count": 11,
     "metadata": {},
     "output_type": "execute_result"
    }
   ],
   "source": [
    "autophrase_100.head()"
   ]
  },
  {
   "cell_type": "code",
   "execution_count": 12,
   "id": "77f8144d-ed54-40ef-99af-2ca222aa3d54",
   "metadata": {},
   "outputs": [
    {
     "data": {
      "image/png": "[encoded data removed]",
      "text/plain": [
       "<Figure size 432x288 with 1 Axes>"
      ]
     },
     "metadata": {
      "needs_background": "light"
     },
     "output_type": "display_data"
    }
   ],
   "source": [
    "fig = plt.figure()\n",
    "plt.plot(autophrase_100[\"recall\"], autophrase_100[\"precision\"])\n",
    "fig.suptitle('Precision-Recall Curve', fontsize=20)\n",
    "plt.xlabel('Recall', fontsize=18)\n",
    "plt.ylabel('Precision', fontsize=16)\n",
    "fig.savefig('Precision-Recall Curve.jpg')"
   ]
  },
  {
   "cell_type": "markdown",
   "id": "ab635498-c7a7-4f34-90e0-264455041411",
   "metadata": {},
   "source": [
    "## Problem 3"
   ]
  },
  {
   "cell_type": "code",
   "execution_count": 13,
   "id": "d3053bae-1c37-4482-965f-6acb21d2410c",
   "metadata": {},
   "outputs": [],
   "source": [
    "with open('segmentation.txt',encoding='utf-8') as f:\n",
    "    line=f.read()\n",
    "def func(x):\n",
    "    start,end=x.span()\n",
    "    s=line[start:end]\n",
    "    s=s.replace('<phrase>', '').replace('</phrase>', '').replace(' ', '_')\n",
    "    return s\n",
    "s = re.sub(r\"<phrase>.*?</phrase>\", func, line)\n",
    "#print(s)\n",
    "with open('adjusted_seg.txt','w',encoding='utf-8') as f:\n",
    "    f.write(s)"
   ]
  },
  {
   "cell_type": "code",
   "execution_count": 14,
   "id": "8da474ee-a3c4-4298-b8b7-159b665a4eef",
   "metadata": {},
   "outputs": [
    {
     "name": "stdout",
     "output_type": "stream",
     "text": [
      "Metal device set to: Apple M1 Pro\n"
     ]
    },
    {
     "name": "stderr",
     "output_type": "stream",
     "text": [
      "2021-12-06 22:09:42.554777: I tensorflow/core/common_runtime/pluggable_device/pluggable_device_factory.cc:305] Could not identify NUMA node of platform GPU ID 0, defaulting to 0. Your kernel may not have been built with NUMA support.\n",
      "2021-12-06 22:09:42.567444: I tensorflow/core/common_runtime/pluggable_device/pluggable_device_factory.cc:271] Created TensorFlow device (/job:localhost/replica:0/task:0/device:GPU:0 with 0 MB memory) -> physical PluggableDevice (device: 0, name: METAL, pci bus id: <undefined>)\n"
     ]
    }
   ],
   "source": [
    "text_ds = tf.data.TextLineDataset('adjusted_seg.txt').filter(lambda x: tf.cast(tf.strings.length(x), bool))"
   ]
  },
  {
   "cell_type": "code",
   "execution_count": 15,
   "id": "9ce8f2d6-30a3-49f6-a185-1320b8d471d3",
   "metadata": {},
   "outputs": [],
   "source": [
    "def custom_standardization(input_data):\n",
    "    lowercase = tf.strings.lower(input_data)\n",
    "    return tf.strings.regex_replace(lowercase,\n",
    "                                  '[%s]' % re.escape(string.punctuation), '')\n",
    "\n",
    "\n",
    "# Define the vocabulary size and number of words in a sequence.\n",
    "vocab_size = 3000000\n",
    "sequence_length = 30\n",
    "\n",
    "# Use the TextVectorization layer to normalize, split, and map strings to\n",
    "# integers. Set output_sequence_length length to pad all samples to same length.\n",
    "vectorize_layer = layers.TextVectorization(\n",
    "    standardize=custom_standardization,\n",
    "    max_tokens=vocab_size,\n",
    "    output_mode='int',\n",
    "    output_sequence_length=sequence_length)"
   ]
  },
  {
   "cell_type": "code",
   "execution_count": 16,
   "id": "ec0f2585-f72d-4151-894b-3dfee67395c5",
   "metadata": {},
   "outputs": [
    {
     "name": "stderr",
     "output_type": "stream",
     "text": [
      "2021-12-06 22:09:42.737391: I tensorflow/compiler/mlir/mlir_graph_optimization_pass.cc:185] None of the MLIR Optimization Passes are enabled (registered 2)\n",
      "2021-12-06 22:09:42.738374: W tensorflow/core/platform/profile_utils/cpu_utils.cc:128] Failed to get CPU frequency: 0 Hz\n",
      "2021-12-06 22:09:42.791772: I tensorflow/core/grappler/optimizers/custom_graph_optimizer_registry.cc:112] Plugin optimizer for device_type GPU is enabled.\n"
     ]
    }
   ],
   "source": [
    "vectorize_layer.adapt(text_ds.batch(1024))"
   ]
  },
  {
   "cell_type": "code",
   "execution_count": 17,
   "id": "c59eff1f-6bc7-4ea3-9c1f-2656743d7206",
   "metadata": {},
   "outputs": [
    {
     "name": "stdout",
     "output_type": "stream",
     "text": [
      "['', '[UNK]', 'the', 'of', 'and', 'a', 'in', 'to', 'for', 'is', 'on', 'we', 'that', 'with', 'this', 'are', 'an', 'by', 'as', 'be']\n"
     ]
    }
   ],
   "source": [
    "inverse_vocab = vectorize_layer.get_vocabulary()\n",
    "print(inverse_vocab[:20])"
   ]
  },
  {
   "cell_type": "code",
   "execution_count": 18,
   "id": "9f71a3d2-9632-4e8e-8599-8abb4a67c891",
   "metadata": {},
   "outputs": [
    {
     "data": {
      "text/plain": [
       "1077247"
      ]
     },
     "execution_count": 18,
     "metadata": {},
     "output_type": "execute_result"
    }
   ],
   "source": [
    "len(inverse_vocab)"
   ]
  },
  {
   "cell_type": "code",
   "execution_count": 19,
   "id": "2e3f400f-910c-4df9-a360-ddfe79b442ee",
   "metadata": {},
   "outputs": [
    {
     "data": {
      "text/plain": [
       "'00000000'"
      ]
     },
     "execution_count": 19,
     "metadata": {},
     "output_type": "execute_result"
    }
   ],
   "source": [
    "inverse_vocab[-1]"
   ]
  },
  {
   "cell_type": "code",
   "execution_count": 20,
   "id": "511c3682-c80e-46c2-afee-ac351b12cd1f",
   "metadata": {},
   "outputs": [],
   "source": [
    "text_vector_ds = text_ds.batch(1024).prefetch(AUTOTUNE).map(vectorize_layer).unbatch()"
   ]
  },
  {
   "cell_type": "code",
   "execution_count": 21,
   "id": "23169f26-0961-4189-b2ce-180b3b3dc6c9",
   "metadata": {},
   "outputs": [
    {
     "name": "stdout",
     "output_type": "stream",
     "text": [
      "5017534\n"
     ]
    }
   ],
   "source": [
    "sequences = list(text_vector_ds.as_numpy_iterator())\n",
    "print(len(sequences))"
   ]
  },
  {
   "cell_type": "code",
   "execution_count": 22,
   "id": "48e13052-2345-4ff2-adce-ec316d30bc97",
   "metadata": {},
   "outputs": [
    {
     "name": "stdout",
     "output_type": "stream",
     "text": [
      "[695593   1382    499     13     16    399    452    932      0      0\n",
      "      0      0      0      0      0      0      0      0      0      0\n",
      "      0      0      0      0      0      0      0      0      0      0] => ['oqlc', 'extending', 'c', 'with', 'an', 'object', 'query', 'capability', '', '', '', '', '', '', '', '', '', '', '', '', '', '', '', '', '', '', '', '', '', '']\n",
      "[0 0 0 0 0 0 0 0 0 0 0 0 0 0 0 0 0 0 0 0 0 0 0 0 0 0 0 0 0 0] => ['', '', '', '', '', '', '', '', '', '', '', '', '', '', '', '', '', '', '', '', '', '', '', '', '', '', '', '', '', '']\n",
      "[13076     6 16974     0     0     0     0     0     0     0     0     0\n",
      "     0     0     0     0     0     0     0     0     0     0     0     0\n",
      "     0     0     0     0     0     0] => ['transactionmanagement', 'in', 'multidatabasesystems', '', '', '', '', '', '', '', '', '', '', '', '', '', '', '', '', '', '', '', '', '', '', '', '', '', '', '']\n",
      "[0 0 0 0 0 0 0 0 0 0 0 0 0 0 0 0 0 0 0 0 0 0 0 0 0 0 0 0 0 0] => ['', '', '', '', '', '', '', '', '', '', '', '', '', '', '', '', '', '', '', '', '', '', '', '', '', '', '', '', '', '']\n",
      "[2623    3    2 4346   22    0    0    0    0    0    0    0    0    0\n",
      "    0    0    0    0    0    0    0    0    0    0    0    0    0    0\n",
      "    0    0] => ['overview', 'of', 'the', 'adds', 'system', '', '', '', '', '', '', '', '', '', '', '', '', '', '', '', '', '', '', '', '', '', '', '', '', '']\n"
     ]
    }
   ],
   "source": [
    "for seq in sequences[:5]:\n",
    "    print(f\"{seq} => {[inverse_vocab[i] for i in seq]}\")"
   ]
  },
  {
   "cell_type": "code",
   "execution_count": 23,
   "id": "5098dd72-93b2-483e-9d53-bbb81963cafd",
   "metadata": {},
   "outputs": [],
   "source": [
    "list_text = []\n",
    "for seq in sequences:\n",
    "    list_text.append([inverse_vocab[i] for i in seq])\n",
    "    # print(f\"{seq} => {[inverse_vocab[i] for i in seq]}\")"
   ]
  },
  {
   "cell_type": "code",
   "execution_count": 24,
   "id": "fe75aa1f-8c4b-4857-9ea0-5cae71e1a56d",
   "metadata": {},
   "outputs": [
    {
     "data": {
      "text/plain": [
       "30"
      ]
     },
     "execution_count": 24,
     "metadata": {},
     "output_type": "execute_result"
    }
   ],
   "source": [
    "len(list_text[0])"
   ]
  },
  {
   "cell_type": "code",
   "execution_count": 25,
   "id": "35e2294c-2d44-4656-b97e-8e782d7d6bf2",
   "metadata": {},
   "outputs": [
    {
     "data": {
      "text/plain": [
       "5017534"
      ]
     },
     "execution_count": 25,
     "metadata": {},
     "output_type": "execute_result"
    }
   ],
   "source": [
    "len(list_text)"
   ]
  },
  {
   "cell_type": "code",
   "execution_count": 26,
   "id": "26c76e6b-85b8-44af-9688-c36d7b68ed4f",
   "metadata": {},
   "outputs": [],
   "source": [
    "model = gensim.models.Word2Vec(sentences=list_text, vector_size=100, window=10, min_count=1, workers=5)"
   ]
  },
  {
   "cell_type": "code",
   "execution_count": 27,
   "id": "f4a0a89a-98d7-47a7-994d-01dfe3759917",
   "metadata": {},
   "outputs": [
    {
     "data": {
      "text/plain": [
       "0.9999999"
      ]
     },
     "execution_count": 27,
     "metadata": {},
     "output_type": "execute_result"
    }
   ],
   "source": [
    "model.wv.similarity('booleancsp', 'booleancsp')"
   ]
  },
  {
   "cell_type": "code",
   "execution_count": 28,
   "id": "6e852910-1c18-47d8-ab77-bb05dd2ff1d6",
   "metadata": {},
   "outputs": [
    {
     "data": {
      "text/plain": [
       "array([ 0.044232  ,  0.59468293,  0.03954777, -0.11315122,  0.8736043 ,\n",
       "        0.27728564, -0.63151157, -0.86564285, -0.35103554,  1.2561715 ,\n",
       "       -0.56348807,  0.58475393,  1.0707393 , -1.3930165 ,  0.9246601 ,\n",
       "       -1.2093716 ,  0.31581524, -0.9835622 ,  0.97234863, -0.07306048,\n",
       "       -0.47281078, -1.4035573 ,  0.6165679 , -2.8022685 , -1.5840313 ,\n",
       "        0.27495718, -0.24766168, -0.27638263,  0.76691633,  0.38374522,\n",
       "        0.761939  ,  0.4981781 , -0.6936039 ,  0.83917785, -0.30008245,\n",
       "        0.52937204, -0.2662985 ,  1.1131474 , -0.17972794,  1.1192292 ,\n",
       "        1.817268  ,  0.42238408, -0.8570704 ,  0.7293451 ,  0.48900256,\n",
       "       -0.9438362 , -0.6225963 , -0.43475977, -0.28168976, -1.1769019 ,\n",
       "        0.3755075 ,  0.7030161 ,  0.09044127,  0.25245187,  0.14629926,\n",
       "       -0.00505964,  0.26158407,  0.21626776,  0.4096841 , -0.08428175,\n",
       "       -0.4687614 , -0.01171478,  1.1977173 ,  0.7840697 , -0.31278017,\n",
       "        0.31404796,  0.01023868,  0.8144832 ,  0.12183052, -0.5659241 ,\n",
       "        1.028827  ,  0.96323794,  0.8559372 ,  0.16712861, -0.4912708 ,\n",
       "        0.5631032 ,  0.6006858 , -0.35617822, -0.18926097,  0.67700946,\n",
       "       -1.1045994 ,  0.40326348, -0.36777043, -0.6424333 , -0.4418067 ,\n",
       "       -0.5642022 , -0.43190497, -0.5008663 ,  0.13565823,  0.32212484,\n",
       "        1.2525533 ,  0.09522025,  1.3546761 ,  0.55782807,  0.8053573 ,\n",
       "       -0.34017426, -0.675421  ,  0.28644314,  1.5088589 , -0.8726872 ],\n",
       "      dtype=float32)"
      ]
     },
     "execution_count": 28,
     "metadata": {},
     "output_type": "execute_result"
    }
   ],
   "source": [
    "model.wv[\"gröbnerbases\"]"
   ]
  },
  {
   "cell_type": "code",
   "execution_count": 29,
   "id": "c61ddc5a-9859-49bc-8eb1-d8cb3510abde",
   "metadata": {},
   "outputs": [
    {
     "name": "stdout",
     "output_type": "stream",
     "text": [
      "word #661951/699210 is everywherefrom\n",
      "word #661952/699210 is tonights\n",
      "word #661953/699210 is feasibily\n",
      "word #661954/699210 is accessing3\n",
      "word #661955/699210 is demri\n",
      "word #661956/699210 is stretchactivated\n",
      "word #661957/699210 is revascularize\n",
      "word #661958/699210 is n588k\n",
      "word #661959/699210 is automaticimagedriven\n",
      "word #661960/699210 is leftventriclesegmentation\n",
      "word #661961/699210 is manuallydrawn\n",
      "word #661962/699210 is 2dstrain\n",
      "word #661963/699210 is ryr\n",
      "word #661964/699210 is highangularresolution\n",
      "word #661965/699210 is upstroke\n",
      "word #661966/699210 is dvesdtmin\n",
      "word #661967/699210 is dtmriderived\n",
      "word #661968/699210 is adjunctive\n",
      "word #661969/699210 is dyssynchronous\n",
      "word #661970/699210 is distinguing\n",
      "word #661971/699210 is backwardreachability\n",
      "word #661972/699210 is somad\n",
      "word #661973/699210 is hypertrapeze\n",
      "word #661974/699210 is bmus\n",
      "word #661975/699210 is scuttling\n",
      "word #661976/699210 is encircled\n",
      "word #661977/699210 is olognr\n",
      "word #661978/699210 is ub¿\n",
      "word #661979/699210 is skipsplaytrees\n",
      "word #661980/699210 is hpq\n",
      "word #661981/699210 is cornwall\n",
      "word #661982/699210 is webscylla\n",
      "word #661983/699210 is 1×1\n",
      "word #661984/699210 is dvedistributed\n",
      "word #661985/699210 is smlaoi\n",
      "word #661986/699210 is h3d\n",
      "word #661987/699210 is offlinerendering\n",
      "word #661988/699210 is pointer3d\n",
      "word #661989/699210 is terraintile\n",
      "word #661990/699210 is 2dbp\n",
      "word #661991/699210 is eades\n",
      "word #661992/699210 is webquestionanswering\n",
      "word #661993/699210 is sqrtn11\n",
      "word #661994/699210 is tokutek\n",
      "word #661995/699210 is correlationawareresource\n",
      "word #661996/699210 is degreerelaxed\n",
      "word #661997/699210 is relaxationsfindingmaximum\n",
      "word #661998/699210 is bulkinsertionsort\n",
      "word #661999/699210 is krysta\n"
     ]
    }
   ],
   "source": [
    "for index, word in enumerate(model.wv.index_to_key):\n",
    "    if index > 661950 and index < 662000:\n",
    "        print(f\"word #{index}/{len(model.wv.index_to_key)} is {word}\")"
   ]
  },
  {
   "cell_type": "code",
   "execution_count": null,
   "id": "4a8b5e5e-e597-4ffa-87c5-d4cf65f238c3",
   "metadata": {},
   "outputs": [],
   "source": []
  },
  {
   "cell_type": "markdown",
   "id": "e9ff8d6c-c3d7-453e-b766-52c158db0ec0",
   "metadata": {},
   "source": [
    "## Problem 4"
   ]
  },
  {
   "cell_type": "code",
   "execution_count": 30,
   "id": "178d6f05-50a5-4f8f-bc02-cb301897783c",
   "metadata": {},
   "outputs": [
    {
     "data": {
      "text/html": [
       "<div>\n",
       "<style scoped>\n",
       "    .dataframe tbody tr th:only-of-type {\n",
       "        vertical-align: middle;\n",
       "    }\n",
       "\n",
       "    .dataframe tbody tr th {\n",
       "        vertical-align: top;\n",
       "    }\n",
       "\n",
       "    .dataframe thead th {\n",
       "        text-align: right;\n",
       "    }\n",
       "</style>\n",
       "<table border=\"1\" class=\"dataframe\">\n",
       "  <thead>\n",
       "    <tr style=\"text-align: right;\">\n",
       "      <th></th>\n",
       "      <th>0</th>\n",
       "      <th>1</th>\n",
       "    </tr>\n",
       "  </thead>\n",
       "  <tbody>\n",
       "    <tr>\n",
       "      <th>0</th>\n",
       "      <td>0.987922</td>\n",
       "      <td>histogram equalization</td>\n",
       "    </tr>\n",
       "    <tr>\n",
       "      <th>1</th>\n",
       "      <td>0.986208</td>\n",
       "      <td>point clouds</td>\n",
       "    </tr>\n",
       "    <tr>\n",
       "      <th>2</th>\n",
       "      <td>0.985326</td>\n",
       "      <td>krylov subspace</td>\n",
       "    </tr>\n",
       "    <tr>\n",
       "      <th>3</th>\n",
       "      <td>0.985084</td>\n",
       "      <td>gröbner bases</td>\n",
       "    </tr>\n",
       "    <tr>\n",
       "      <th>4</th>\n",
       "      <td>0.985036</td>\n",
       "      <td>random walk</td>\n",
       "    </tr>\n",
       "    <tr>\n",
       "      <th>...</th>\n",
       "      <td>...</td>\n",
       "      <td>...</td>\n",
       "    </tr>\n",
       "    <tr>\n",
       "      <th>188770</th>\n",
       "      <td>0.500011</td>\n",
       "      <td>random 3 cnf</td>\n",
       "    </tr>\n",
       "    <tr>\n",
       "      <th>188771</th>\n",
       "      <td>0.500011</td>\n",
       "      <td>local effect</td>\n",
       "    </tr>\n",
       "    <tr>\n",
       "      <th>188772</th>\n",
       "      <td>0.500009</td>\n",
       "      <td>power reduction techniques</td>\n",
       "    </tr>\n",
       "    <tr>\n",
       "      <th>188773</th>\n",
       "      <td>0.500006</td>\n",
       "      <td>incremental bayesian</td>\n",
       "    </tr>\n",
       "    <tr>\n",
       "      <th>188774</th>\n",
       "      <td>0.500002</td>\n",
       "      <td>svm method</td>\n",
       "    </tr>\n",
       "  </tbody>\n",
       "</table>\n",
       "<p>188775 rows × 2 columns</p>\n",
       "</div>"
      ],
      "text/plain": [
       "               0                           1\n",
       "0       0.987922      histogram equalization\n",
       "1       0.986208                point clouds\n",
       "2       0.985326             krylov subspace\n",
       "3       0.985084               gröbner bases\n",
       "4       0.985036                 random walk\n",
       "...          ...                         ...\n",
       "188770  0.500011                random 3 cnf\n",
       "188771  0.500011                local effect\n",
       "188772  0.500009  power reduction techniques\n",
       "188773  0.500006        incremental bayesian\n",
       "188774  0.500002                  svm method\n",
       "\n",
       "[188775 rows x 2 columns]"
      ]
     },
     "execution_count": 30,
     "metadata": {},
     "output_type": "execute_result"
    }
   ],
   "source": [
    "autophrase_compare = autophrase[autophrase[0] > 0.5]\n",
    "autophrase_compare"
   ]
  },
  {
   "cell_type": "code",
   "execution_count": 31,
   "id": "93376c64-07b6-4232-a0fa-e5794d5bac3e",
   "metadata": {},
   "outputs": [
    {
     "data": {
      "text/html": [
       "<div>\n",
       "<style scoped>\n",
       "    .dataframe tbody tr th:only-of-type {\n",
       "        vertical-align: middle;\n",
       "    }\n",
       "\n",
       "    .dataframe tbody tr th {\n",
       "        vertical-align: top;\n",
       "    }\n",
       "\n",
       "    .dataframe thead th {\n",
       "        text-align: right;\n",
       "    }\n",
       "</style>\n",
       "<table border=\"1\" class=\"dataframe\">\n",
       "  <thead>\n",
       "    <tr style=\"text-align: right;\">\n",
       "      <th></th>\n",
       "      <th>score</th>\n",
       "      <th>multi_phrase</th>\n",
       "      <th>high_quality</th>\n",
       "      <th>cum_sum</th>\n",
       "      <th>cum_index</th>\n",
       "      <th>recall</th>\n",
       "      <th>precision</th>\n",
       "    </tr>\n",
       "  </thead>\n",
       "  <tbody>\n",
       "    <tr>\n",
       "      <th>20967</th>\n",
       "      <td>0.905698</td>\n",
       "      <td>shock tube</td>\n",
       "      <td>1</td>\n",
       "      <td>3</td>\n",
       "      <td>15</td>\n",
       "      <td>0.15</td>\n",
       "      <td>0.200000</td>\n",
       "    </tr>\n",
       "    <tr>\n",
       "      <th>3341</th>\n",
       "      <td>0.962626</td>\n",
       "      <td>electre tri</td>\n",
       "      <td>1</td>\n",
       "      <td>10</td>\n",
       "      <td>43</td>\n",
       "      <td>0.50</td>\n",
       "      <td>0.232558</td>\n",
       "    </tr>\n",
       "    <tr>\n",
       "      <th>15725</th>\n",
       "      <td>0.920832</td>\n",
       "      <td>developable surfaces</td>\n",
       "      <td>1</td>\n",
       "      <td>14</td>\n",
       "      <td>69</td>\n",
       "      <td>0.70</td>\n",
       "      <td>0.202899</td>\n",
       "    </tr>\n",
       "  </tbody>\n",
       "</table>\n",
       "</div>"
      ],
      "text/plain": [
       "          score          multi_phrase  high_quality  cum_sum  cum_index  \\\n",
       "20967  0.905698            shock tube             1        3         15   \n",
       "3341   0.962626           electre tri             1       10         43   \n",
       "15725  0.920832  developable surfaces             1       14         69   \n",
       "\n",
       "       recall  precision  \n",
       "20967    0.15   0.200000  \n",
       "3341     0.50   0.232558  \n",
       "15725    0.70   0.202899  "
      ]
     },
     "execution_count": 31,
     "metadata": {},
     "output_type": "execute_result"
    }
   ],
   "source": [
    "high_quality3 = autophrase_100[autophrase_100[\"score\"] > 0.9].sample(3)\n",
    "high_quality3"
   ]
  },
  {
   "cell_type": "code",
   "execution_count": 32,
   "id": "e40fe625-763a-4f34-8456-f553dc64d838",
   "metadata": {},
   "outputs": [],
   "source": [
    "# def remove(string):\n",
    "#     pattern = re.compile(r'\\s+')\n",
    "#     return re.sub(pattern, '', string)\n",
    "def remove(string):\n",
    "    return string.replace(\" \", \"\").replace(\"'\",\"\")"
   ]
  },
  {
   "cell_type": "code",
   "execution_count": 33,
   "id": "a363dce1-b7e5-4d48-ba9f-8b32b96df5a1",
   "metadata": {},
   "outputs": [
    {
     "name": "stderr",
     "output_type": "stream",
     "text": [
      "/var/folders/h5/xy66q_8n5m91xb6gg__86s3c0000gn/T/ipykernel_14423/2084114306.py:1: SettingWithCopyWarning: \n",
      "A value is trying to be set on a copy of a slice from a DataFrame.\n",
      "Try using .loc[row_indexer,col_indexer] = value instead\n",
      "\n",
      "See the caveats in the documentation: https://pandas.pydata.org/pandas-docs/stable/user_guide/indexing.html#returning-a-view-versus-a-copy\n",
      "  autophrase_compare[1] = autophrase_compare[1].apply(remove)\n"
     ]
    }
   ],
   "source": [
    "autophrase_compare[1] = autophrase_compare[1].apply(remove)"
   ]
  },
  {
   "cell_type": "code",
   "execution_count": 34,
   "id": "68ddca1f-302f-4ef4-b733-dc8163e3e480",
   "metadata": {},
   "outputs": [
    {
     "data": {
      "text/html": [
       "<div>\n",
       "<style scoped>\n",
       "    .dataframe tbody tr th:only-of-type {\n",
       "        vertical-align: middle;\n",
       "    }\n",
       "\n",
       "    .dataframe tbody tr th {\n",
       "        vertical-align: top;\n",
       "    }\n",
       "\n",
       "    .dataframe thead th {\n",
       "        text-align: right;\n",
       "    }\n",
       "</style>\n",
       "<table border=\"1\" class=\"dataframe\">\n",
       "  <thead>\n",
       "    <tr style=\"text-align: right;\">\n",
       "      <th></th>\n",
       "      <th>0</th>\n",
       "      <th>1</th>\n",
       "    </tr>\n",
       "  </thead>\n",
       "  <tbody>\n",
       "    <tr>\n",
       "      <th>0</th>\n",
       "      <td>0.987922</td>\n",
       "      <td>histogramequalization</td>\n",
       "    </tr>\n",
       "    <tr>\n",
       "      <th>1</th>\n",
       "      <td>0.986208</td>\n",
       "      <td>pointclouds</td>\n",
       "    </tr>\n",
       "    <tr>\n",
       "      <th>2</th>\n",
       "      <td>0.985326</td>\n",
       "      <td>krylovsubspace</td>\n",
       "    </tr>\n",
       "    <tr>\n",
       "      <th>3</th>\n",
       "      <td>0.985084</td>\n",
       "      <td>gröbnerbases</td>\n",
       "    </tr>\n",
       "    <tr>\n",
       "      <th>4</th>\n",
       "      <td>0.985036</td>\n",
       "      <td>randomwalk</td>\n",
       "    </tr>\n",
       "    <tr>\n",
       "      <th>...</th>\n",
       "      <td>...</td>\n",
       "      <td>...</td>\n",
       "    </tr>\n",
       "    <tr>\n",
       "      <th>188770</th>\n",
       "      <td>0.500011</td>\n",
       "      <td>random3cnf</td>\n",
       "    </tr>\n",
       "    <tr>\n",
       "      <th>188771</th>\n",
       "      <td>0.500011</td>\n",
       "      <td>localeffect</td>\n",
       "    </tr>\n",
       "    <tr>\n",
       "      <th>188772</th>\n",
       "      <td>0.500009</td>\n",
       "      <td>powerreductiontechniques</td>\n",
       "    </tr>\n",
       "    <tr>\n",
       "      <th>188773</th>\n",
       "      <td>0.500006</td>\n",
       "      <td>incrementalbayesian</td>\n",
       "    </tr>\n",
       "    <tr>\n",
       "      <th>188774</th>\n",
       "      <td>0.500002</td>\n",
       "      <td>svmmethod</td>\n",
       "    </tr>\n",
       "  </tbody>\n",
       "</table>\n",
       "<p>188775 rows × 2 columns</p>\n",
       "</div>"
      ],
      "text/plain": [
       "               0                         1\n",
       "0       0.987922     histogramequalization\n",
       "1       0.986208               pointclouds\n",
       "2       0.985326            krylovsubspace\n",
       "3       0.985084              gröbnerbases\n",
       "4       0.985036                randomwalk\n",
       "...          ...                       ...\n",
       "188770  0.500011                random3cnf\n",
       "188771  0.500011               localeffect\n",
       "188772  0.500009  powerreductiontechniques\n",
       "188773  0.500006       incrementalbayesian\n",
       "188774  0.500002                 svmmethod\n",
       "\n",
       "[188775 rows x 2 columns]"
      ]
     },
     "execution_count": 34,
     "metadata": {},
     "output_type": "execute_result"
    }
   ],
   "source": [
    "autophrase_compare"
   ]
  },
  {
   "cell_type": "code",
   "execution_count": 35,
   "id": "4e11e8e9-8b92-49d7-9adc-f9a989dd25dc",
   "metadata": {},
   "outputs": [],
   "source": [
    "def insert_value_camassaholm(x):\n",
    "    try:\n",
    "        output = model.wv.similarity(x, 'camassaholm')\n",
    "    except KeyError:\n",
    "        return 0\n",
    "    else:\n",
    "        return output\n",
    "    \n",
    "    \n",
    "def insert_value_assignment_problem(x):\n",
    "    try:\n",
    "        output = model.wv.similarity(x, 'assignmentproblem')\n",
    "    except KeyError:\n",
    "        return 0\n",
    "    else:\n",
    "        return output\n",
    "    \n",
    "def insert_value_uwb_receiver(x):\n",
    "    try:\n",
    "        output = model.wv.similarity(x, 'uwbreceiver')\n",
    "    except KeyError:\n",
    "        return 0\n",
    "    else:\n",
    "        return output"
   ]
  },
  {
   "cell_type": "code",
   "execution_count": 36,
   "id": "7dbdea72-a492-4e27-a56c-2f29af034ebf",
   "metadata": {},
   "outputs": [
    {
     "name": "stderr",
     "output_type": "stream",
     "text": [
      "/var/folders/h5/xy66q_8n5m91xb6gg__86s3c0000gn/T/ipykernel_14423/997667014.py:1: SettingWithCopyWarning: \n",
      "A value is trying to be set on a copy of a slice from a DataFrame.\n",
      "Try using .loc[row_indexer,col_indexer] = value instead\n",
      "\n",
      "See the caveats in the documentation: https://pandas.pydata.org/pandas-docs/stable/user_guide/indexing.html#returning-a-view-versus-a-copy\n",
      "  autophrase_compare[\"sim_camassa_holm\"] = autophrase_compare[1].apply(insert_value_camassaholm)\n",
      "/var/folders/h5/xy66q_8n5m91xb6gg__86s3c0000gn/T/ipykernel_14423/997667014.py:2: SettingWithCopyWarning: \n",
      "A value is trying to be set on a copy of a slice from a DataFrame.\n",
      "Try using .loc[row_indexer,col_indexer] = value instead\n",
      "\n",
      "See the caveats in the documentation: https://pandas.pydata.org/pandas-docs/stable/user_guide/indexing.html#returning-a-view-versus-a-copy\n",
      "  autophrase_compare[\"sim_assignment_problem\"] = autophrase_compare[1].apply(insert_value_assignment_problem)\n",
      "/var/folders/h5/xy66q_8n5m91xb6gg__86s3c0000gn/T/ipykernel_14423/997667014.py:3: SettingWithCopyWarning: \n",
      "A value is trying to be set on a copy of a slice from a DataFrame.\n",
      "Try using .loc[row_indexer,col_indexer] = value instead\n",
      "\n",
      "See the caveats in the documentation: https://pandas.pydata.org/pandas-docs/stable/user_guide/indexing.html#returning-a-view-versus-a-copy\n",
      "  autophrase_compare[\"sim_uwb_receiver\"] = autophrase_compare[1].apply(insert_value_uwb_receiver)\n"
     ]
    }
   ],
   "source": [
    "autophrase_compare[\"sim_camassa_holm\"] = autophrase_compare[1].apply(insert_value_camassaholm)\n",
    "autophrase_compare[\"sim_assignment_problem\"] = autophrase_compare[1].apply(insert_value_assignment_problem)\n",
    "autophrase_compare[\"sim_uwb_receiver\"] = autophrase_compare[1].apply(insert_value_uwb_receiver)"
   ]
  },
  {
   "cell_type": "code",
   "execution_count": 37,
   "id": "28e926be-6514-44c4-b07f-20902d1b2081",
   "metadata": {},
   "outputs": [
    {
     "data": {
      "text/html": [
       "<div>\n",
       "<style scoped>\n",
       "    .dataframe tbody tr th:only-of-type {\n",
       "        vertical-align: middle;\n",
       "    }\n",
       "\n",
       "    .dataframe tbody tr th {\n",
       "        vertical-align: top;\n",
       "    }\n",
       "\n",
       "    .dataframe thead th {\n",
       "        text-align: right;\n",
       "    }\n",
       "</style>\n",
       "<table border=\"1\" class=\"dataframe\">\n",
       "  <thead>\n",
       "    <tr style=\"text-align: right;\">\n",
       "      <th></th>\n",
       "      <th>0</th>\n",
       "      <th>1</th>\n",
       "      <th>sim_camassa_holm</th>\n",
       "      <th>sim_assignment_problem</th>\n",
       "      <th>sim_uwb_receiver</th>\n",
       "    </tr>\n",
       "  </thead>\n",
       "  <tbody>\n",
       "    <tr>\n",
       "      <th>0</th>\n",
       "      <td>0.987922</td>\n",
       "      <td>histogramequalization</td>\n",
       "      <td>0.260632</td>\n",
       "      <td>0.138916</td>\n",
       "      <td>0.208745</td>\n",
       "    </tr>\n",
       "    <tr>\n",
       "      <th>1</th>\n",
       "      <td>0.986208</td>\n",
       "      <td>pointclouds</td>\n",
       "      <td>0.161483</td>\n",
       "      <td>0.118440</td>\n",
       "      <td>0.142517</td>\n",
       "    </tr>\n",
       "    <tr>\n",
       "      <th>2</th>\n",
       "      <td>0.985326</td>\n",
       "      <td>krylovsubspace</td>\n",
       "      <td>0.515203</td>\n",
       "      <td>0.242082</td>\n",
       "      <td>0.514864</td>\n",
       "    </tr>\n",
       "    <tr>\n",
       "      <th>3</th>\n",
       "      <td>0.985084</td>\n",
       "      <td>gröbnerbases</td>\n",
       "      <td>0.497932</td>\n",
       "      <td>0.132676</td>\n",
       "      <td>0.296090</td>\n",
       "    </tr>\n",
       "    <tr>\n",
       "      <th>4</th>\n",
       "      <td>0.985036</td>\n",
       "      <td>randomwalk</td>\n",
       "      <td>0.228044</td>\n",
       "      <td>0.324549</td>\n",
       "      <td>0.151715</td>\n",
       "    </tr>\n",
       "  </tbody>\n",
       "</table>\n",
       "</div>"
      ],
      "text/plain": [
       "          0                      1  sim_camassa_holm  sim_assignment_problem  \\\n",
       "0  0.987922  histogramequalization          0.260632                0.138916   \n",
       "1  0.986208            pointclouds          0.161483                0.118440   \n",
       "2  0.985326         krylovsubspace          0.515203                0.242082   \n",
       "3  0.985084           gröbnerbases          0.497932                0.132676   \n",
       "4  0.985036             randomwalk          0.228044                0.324549   \n",
       "\n",
       "   sim_uwb_receiver  \n",
       "0          0.208745  \n",
       "1          0.142517  \n",
       "2          0.514864  \n",
       "3          0.296090  \n",
       "4          0.151715  "
      ]
     },
     "execution_count": 37,
     "metadata": {},
     "output_type": "execute_result"
    }
   ],
   "source": [
    "autophrase_compare.head()"
   ]
  },
  {
   "cell_type": "code",
   "execution_count": 38,
   "id": "cc2c81fb-bf7f-4036-8bea-186225d05c2a",
   "metadata": {},
   "outputs": [
    {
     "data": {
      "text/html": [
       "<div>\n",
       "<style scoped>\n",
       "    .dataframe tbody tr th:only-of-type {\n",
       "        vertical-align: middle;\n",
       "    }\n",
       "\n",
       "    .dataframe tbody tr th {\n",
       "        vertical-align: top;\n",
       "    }\n",
       "\n",
       "    .dataframe thead th {\n",
       "        text-align: right;\n",
       "    }\n",
       "</style>\n",
       "<table border=\"1\" class=\"dataframe\">\n",
       "  <thead>\n",
       "    <tr style=\"text-align: right;\">\n",
       "      <th></th>\n",
       "      <th>score</th>\n",
       "      <th>multi_phrase</th>\n",
       "      <th>sim_camassa_holm</th>\n",
       "    </tr>\n",
       "  </thead>\n",
       "  <tbody>\n",
       "    <tr>\n",
       "      <th>21642</th>\n",
       "      <td>0.903728</td>\n",
       "      <td>camassaholm</td>\n",
       "      <td>1.000000</td>\n",
       "    </tr>\n",
       "    <tr>\n",
       "      <th>66536</th>\n",
       "      <td>0.780643</td>\n",
       "      <td>neutraldelay</td>\n",
       "      <td>0.776966</td>\n",
       "    </tr>\n",
       "    <tr>\n",
       "      <th>13611</th>\n",
       "      <td>0.927007</td>\n",
       "      <td>petrovgalerkin</td>\n",
       "      <td>0.776936</td>\n",
       "    </tr>\n",
       "    <tr>\n",
       "      <th>96522</th>\n",
       "      <td>0.705536</td>\n",
       "      <td>kortewegdevries</td>\n",
       "      <td>0.776004</td>\n",
       "    </tr>\n",
       "    <tr>\n",
       "      <th>23172</th>\n",
       "      <td>0.899161</td>\n",
       "      <td>advectiondiffusionreaction</td>\n",
       "      <td>0.774089</td>\n",
       "    </tr>\n",
       "  </tbody>\n",
       "</table>\n",
       "</div>"
      ],
      "text/plain": [
       "          score                multi_phrase  sim_camassa_holm\n",
       "21642  0.903728                 camassaholm          1.000000\n",
       "66536  0.780643                neutraldelay          0.776966\n",
       "13611  0.927007              petrovgalerkin          0.776936\n",
       "96522  0.705536             kortewegdevries          0.776004\n",
       "23172  0.899161  advectiondiffusionreaction          0.774089"
      ]
     },
     "execution_count": 38,
     "metadata": {},
     "output_type": "execute_result"
    }
   ],
   "source": [
    "autophrase_compare.sort_values(by=['sim_camassa_holm'], ascending = False)[:5][[0,1,\"sim_camassa_holm\"]].rename(columns={0: \"score\", 1: \"multi_phrase\"})"
   ]
  },
  {
   "cell_type": "code",
   "execution_count": 39,
   "id": "9cca6fb6-7e3f-4e43-98cc-56d869e6c3c8",
   "metadata": {},
   "outputs": [
    {
     "data": {
      "text/html": [
       "<div>\n",
       "<style scoped>\n",
       "    .dataframe tbody tr th:only-of-type {\n",
       "        vertical-align: middle;\n",
       "    }\n",
       "\n",
       "    .dataframe tbody tr th {\n",
       "        vertical-align: top;\n",
       "    }\n",
       "\n",
       "    .dataframe thead th {\n",
       "        text-align: right;\n",
       "    }\n",
       "</style>\n",
       "<table border=\"1\" class=\"dataframe\">\n",
       "  <thead>\n",
       "    <tr style=\"text-align: right;\">\n",
       "      <th></th>\n",
       "      <th>score</th>\n",
       "      <th>multi_phrase</th>\n",
       "      <th>sim_assignment_problem</th>\n",
       "    </tr>\n",
       "  </thead>\n",
       "  <tbody>\n",
       "    <tr>\n",
       "      <th>11575</th>\n",
       "      <td>0.933178</td>\n",
       "      <td>assignmentproblem</td>\n",
       "      <td>1.000000</td>\n",
       "    </tr>\n",
       "    <tr>\n",
       "      <th>55308</th>\n",
       "      <td>0.810978</td>\n",
       "      <td>routingproblem</td>\n",
       "      <td>0.850013</td>\n",
       "    </tr>\n",
       "    <tr>\n",
       "      <th>1051</th>\n",
       "      <td>0.972496</td>\n",
       "      <td>travelingsalesmanproblem</td>\n",
       "      <td>0.841239</td>\n",
       "    </tr>\n",
       "    <tr>\n",
       "      <th>8809</th>\n",
       "      <td>0.942131</td>\n",
       "      <td>vehicleroutingproblem</td>\n",
       "      <td>0.837479</td>\n",
       "    </tr>\n",
       "    <tr>\n",
       "      <th>37205</th>\n",
       "      <td>0.861418</td>\n",
       "      <td>shortestpathproblem</td>\n",
       "      <td>0.835289</td>\n",
       "    </tr>\n",
       "  </tbody>\n",
       "</table>\n",
       "</div>"
      ],
      "text/plain": [
       "          score              multi_phrase  sim_assignment_problem\n",
       "11575  0.933178         assignmentproblem                1.000000\n",
       "55308  0.810978            routingproblem                0.850013\n",
       "1051   0.972496  travelingsalesmanproblem                0.841239\n",
       "8809   0.942131     vehicleroutingproblem                0.837479\n",
       "37205  0.861418       shortestpathproblem                0.835289"
      ]
     },
     "execution_count": 39,
     "metadata": {},
     "output_type": "execute_result"
    }
   ],
   "source": [
    "autophrase_compare.sort_values(by=['sim_assignment_problem'], ascending = False)[:5][[0,1,\"sim_assignment_problem\"]].rename(columns={0: \"score\", 1: \"multi_phrase\"})"
   ]
  },
  {
   "cell_type": "code",
   "execution_count": 40,
   "id": "d925b2d3-6a64-4ac8-9b2e-0a6d01686f9b",
   "metadata": {},
   "outputs": [
    {
     "data": {
      "text/html": [
       "<div>\n",
       "<style scoped>\n",
       "    .dataframe tbody tr th:only-of-type {\n",
       "        vertical-align: middle;\n",
       "    }\n",
       "\n",
       "    .dataframe tbody tr th {\n",
       "        vertical-align: top;\n",
       "    }\n",
       "\n",
       "    .dataframe thead th {\n",
       "        text-align: right;\n",
       "    }\n",
       "</style>\n",
       "<table border=\"1\" class=\"dataframe\">\n",
       "  <thead>\n",
       "    <tr style=\"text-align: right;\">\n",
       "      <th></th>\n",
       "      <th>score</th>\n",
       "      <th>multi_phrase</th>\n",
       "      <th>sim_uwb_receiver</th>\n",
       "    </tr>\n",
       "  </thead>\n",
       "  <tbody>\n",
       "    <tr>\n",
       "      <th>10506</th>\n",
       "      <td>0.936644</td>\n",
       "      <td>uwbreceiver</td>\n",
       "      <td>1.000000</td>\n",
       "    </tr>\n",
       "    <tr>\n",
       "      <th>1007</th>\n",
       "      <td>0.972721</td>\n",
       "      <td>operationaltransconductanceamplifier</td>\n",
       "      <td>0.802967</td>\n",
       "    </tr>\n",
       "    <tr>\n",
       "      <th>10821</th>\n",
       "      <td>0.935711</td>\n",
       "      <td>directdigitalfrequencysynthesizer</td>\n",
       "      <td>0.790353</td>\n",
       "    </tr>\n",
       "    <tr>\n",
       "      <th>17270</th>\n",
       "      <td>0.916302</td>\n",
       "      <td>lcoscillator</td>\n",
       "      <td>0.788645</td>\n",
       "    </tr>\n",
       "    <tr>\n",
       "      <th>30772</th>\n",
       "      <td>0.878331</td>\n",
       "      <td>classdaudioamplifier</td>\n",
       "      <td>0.788376</td>\n",
       "    </tr>\n",
       "  </tbody>\n",
       "</table>\n",
       "</div>"
      ],
      "text/plain": [
       "          score                          multi_phrase  sim_uwb_receiver\n",
       "10506  0.936644                           uwbreceiver          1.000000\n",
       "1007   0.972721  operationaltransconductanceamplifier          0.802967\n",
       "10821  0.935711     directdigitalfrequencysynthesizer          0.790353\n",
       "17270  0.916302                          lcoscillator          0.788645\n",
       "30772  0.878331                  classdaudioamplifier          0.788376"
      ]
     },
     "execution_count": 40,
     "metadata": {},
     "output_type": "execute_result"
    }
   ],
   "source": [
    "autophrase_compare.sort_values(by=['sim_uwb_receiver'], ascending = False)[:5][[0,1,\"sim_uwb_receiver\"]].rename(columns={0: \"score\", 1: \"multi_phrase\"})"
   ]
  },
  {
   "cell_type": "code",
   "execution_count": 41,
   "id": "cddc553d-a696-4732-a295-aeb19146c348",
   "metadata": {},
   "outputs": [
    {
     "data": {
      "text/html": [
       "<div>\n",
       "<style scoped>\n",
       "    .dataframe tbody tr th:only-of-type {\n",
       "        vertical-align: middle;\n",
       "    }\n",
       "\n",
       "    .dataframe tbody tr th {\n",
       "        vertical-align: top;\n",
       "    }\n",
       "\n",
       "    .dataframe thead th {\n",
       "        text-align: right;\n",
       "    }\n",
       "</style>\n",
       "<table border=\"1\" class=\"dataframe\">\n",
       "  <thead>\n",
       "    <tr style=\"text-align: right;\">\n",
       "      <th></th>\n",
       "      <th>0</th>\n",
       "      <th>1</th>\n",
       "      <th>sim_camassa_holm</th>\n",
       "      <th>sim_assignment_problem</th>\n",
       "      <th>sim_uwb_receiver</th>\n",
       "    </tr>\n",
       "  </thead>\n",
       "  <tbody>\n",
       "    <tr>\n",
       "      <th>70</th>\n",
       "      <td>0.981340</td>\n",
       "      <td>riverbasin</td>\n",
       "      <td>0.0</td>\n",
       "      <td>0.0</td>\n",
       "      <td>0.0</td>\n",
       "    </tr>\n",
       "    <tr>\n",
       "      <th>76</th>\n",
       "      <td>0.981038</td>\n",
       "      <td>δςmodulator</td>\n",
       "      <td>0.0</td>\n",
       "      <td>0.0</td>\n",
       "      <td>0.0</td>\n",
       "    </tr>\n",
       "    <tr>\n",
       "      <th>80</th>\n",
       "      <td>0.980983</td>\n",
       "      <td>orthopaedicsurgery</td>\n",
       "      <td>0.0</td>\n",
       "      <td>0.0</td>\n",
       "      <td>0.0</td>\n",
       "    </tr>\n",
       "    <tr>\n",
       "      <th>100</th>\n",
       "      <td>0.980593</td>\n",
       "      <td>biochemicalpathways</td>\n",
       "      <td>0.0</td>\n",
       "      <td>0.0</td>\n",
       "      <td>0.0</td>\n",
       "    </tr>\n",
       "    <tr>\n",
       "      <th>105</th>\n",
       "      <td>0.980501</td>\n",
       "      <td>softtissues</td>\n",
       "      <td>0.0</td>\n",
       "      <td>0.0</td>\n",
       "      <td>0.0</td>\n",
       "    </tr>\n",
       "    <tr>\n",
       "      <th>...</th>\n",
       "      <td>...</td>\n",
       "      <td>...</td>\n",
       "      <td>...</td>\n",
       "      <td>...</td>\n",
       "      <td>...</td>\n",
       "    </tr>\n",
       "    <tr>\n",
       "      <th>188768</th>\n",
       "      <td>0.500015</td>\n",
       "      <td>camarchitecture</td>\n",
       "      <td>0.0</td>\n",
       "      <td>0.0</td>\n",
       "      <td>0.0</td>\n",
       "    </tr>\n",
       "    <tr>\n",
       "      <th>188769</th>\n",
       "      <td>0.500014</td>\n",
       "      <td>scalingandtranslation</td>\n",
       "      <td>0.0</td>\n",
       "      <td>0.0</td>\n",
       "      <td>0.0</td>\n",
       "    </tr>\n",
       "    <tr>\n",
       "      <th>188772</th>\n",
       "      <td>0.500009</td>\n",
       "      <td>powerreductiontechniques</td>\n",
       "      <td>0.0</td>\n",
       "      <td>0.0</td>\n",
       "      <td>0.0</td>\n",
       "    </tr>\n",
       "    <tr>\n",
       "      <th>188773</th>\n",
       "      <td>0.500006</td>\n",
       "      <td>incrementalbayesian</td>\n",
       "      <td>0.0</td>\n",
       "      <td>0.0</td>\n",
       "      <td>0.0</td>\n",
       "    </tr>\n",
       "    <tr>\n",
       "      <th>188774</th>\n",
       "      <td>0.500002</td>\n",
       "      <td>svmmethod</td>\n",
       "      <td>0.0</td>\n",
       "      <td>0.0</td>\n",
       "      <td>0.0</td>\n",
       "    </tr>\n",
       "  </tbody>\n",
       "</table>\n",
       "<p>60550 rows × 5 columns</p>\n",
       "</div>"
      ],
      "text/plain": [
       "               0                         1  sim_camassa_holm  \\\n",
       "70      0.981340                riverbasin               0.0   \n",
       "76      0.981038               δςmodulator               0.0   \n",
       "80      0.980983        orthopaedicsurgery               0.0   \n",
       "100     0.980593       biochemicalpathways               0.0   \n",
       "105     0.980501               softtissues               0.0   \n",
       "...          ...                       ...               ...   \n",
       "188768  0.500015           camarchitecture               0.0   \n",
       "188769  0.500014     scalingandtranslation               0.0   \n",
       "188772  0.500009  powerreductiontechniques               0.0   \n",
       "188773  0.500006       incrementalbayesian               0.0   \n",
       "188774  0.500002                 svmmethod               0.0   \n",
       "\n",
       "        sim_assignment_problem  sim_uwb_receiver  \n",
       "70                         0.0               0.0  \n",
       "76                         0.0               0.0  \n",
       "80                         0.0               0.0  \n",
       "100                        0.0               0.0  \n",
       "105                        0.0               0.0  \n",
       "...                        ...               ...  \n",
       "188768                     0.0               0.0  \n",
       "188769                     0.0               0.0  \n",
       "188772                     0.0               0.0  \n",
       "188773                     0.0               0.0  \n",
       "188774                     0.0               0.0  \n",
       "\n",
       "[60550 rows x 5 columns]"
      ]
     },
     "execution_count": 41,
     "metadata": {},
     "output_type": "execute_result"
    }
   ],
   "source": [
    "autophrase_compare[autophrase_compare[\"sim_uwb_receiver\"] == 0]"
   ]
  },
  {
   "cell_type": "code",
   "execution_count": null,
   "id": "b8bbcb39-273a-4b8d-83d8-80c5a525014e",
   "metadata": {},
   "outputs": [],
   "source": []
  }
 ],
 "metadata": {
  "kernelspec": {
   "display_name": "Python 3.9 (tensorflow_2_6_0)",
   "language": "python",
   "name": "tensorflow_2_6_0"
  },
  "language_info": {
   "codemirror_mode": {
    "name": "ipython",
    "version": 3
   },
   "file_extension": ".py",
   "mimetype": "text/x-python",
   "name": "python",
   "nbconvert_exporter": "python",
   "pygments_lexer": "ipython3",
   "version": "3.9.7"
  }
 },
 "nbformat": 4,
 "nbformat_minor": 5
}
