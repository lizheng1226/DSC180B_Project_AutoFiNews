{
 "cells": [
  {
   "cell_type": "code",
   "execution_count": 1,
   "id": "49961607-6e80-4748-b95e-273e653ee876",
   "metadata": {},
   "outputs": [
    {
     "name": "stdout",
     "output_type": "stream",
     "text": [
      "Init Plugin\n",
      "Init Graph Optimizer\n",
      "Init Kernel\n"
     ]
    },
    {
     "name": "stderr",
     "output_type": "stream",
     "text": [
      "[nltk_data] Downloading package punkt to /Users/lizheng/nltk_data...\n",
      "[nltk_data]   Package punkt is already up-to-date!\n"
     ]
    }
   ],
   "source": [
    "import pandas as pd\n",
    "import numpy as np\n",
    "from tqdm import tqdm\n",
    "from keras.preprocessing.text import Tokenizer\n",
    "tqdm.pandas(desc=\"progress-bar\")\n",
    "from gensim.models import Doc2Vec\n",
    "from sklearn import utils\n",
    "from sklearn.model_selection import train_test_split\n",
    "from keras.preprocessing.sequence import pad_sequences\n",
    "import gensim\n",
    "from sklearn.linear_model import LogisticRegression\n",
    "from gensim.models.doc2vec import TaggedDocument\n",
    "import re\n",
    "import seaborn as sns\n",
    "import matplotlib.pyplot as plt\n",
    "from bs4 import BeautifulSoup\n",
    "import nltk\n",
    "nltk.download('punkt')\n",
    "from nltk.corpus import stopwords"
   ]
  },
  {
   "cell_type": "code",
   "execution_count": 2,
   "id": "7fdbc94f-0380-4b87-8c65-2dee26f6c9ef",
   "metadata": {},
   "outputs": [
    {
     "data": {
      "text/html": [
       "<div>\n",
       "<style scoped>\n",
       "    .dataframe tbody tr th:only-of-type {\n",
       "        vertical-align: middle;\n",
       "    }\n",
       "\n",
       "    .dataframe tbody tr th {\n",
       "        vertical-align: top;\n",
       "    }\n",
       "\n",
       "    .dataframe thead th {\n",
       "        text-align: right;\n",
       "    }\n",
       "</style>\n",
       "<table border=\"1\" class=\"dataframe\">\n",
       "  <thead>\n",
       "    <tr style=\"text-align: right;\">\n",
       "      <th></th>\n",
       "      <th>Sentiment</th>\n",
       "      <th>Message</th>\n",
       "    </tr>\n",
       "  </thead>\n",
       "  <tbody>\n",
       "    <tr>\n",
       "      <th>0</th>\n",
       "      <td>neutral</td>\n",
       "      <td>According to Gran , the company has no plans t...</td>\n",
       "    </tr>\n",
       "    <tr>\n",
       "      <th>1</th>\n",
       "      <td>neutral</td>\n",
       "      <td>Technopolis plans to develop in stages an area...</td>\n",
       "    </tr>\n",
       "    <tr>\n",
       "      <th>2</th>\n",
       "      <td>negative</td>\n",
       "      <td>The international electronic industry company ...</td>\n",
       "    </tr>\n",
       "    <tr>\n",
       "      <th>3</th>\n",
       "      <td>positive</td>\n",
       "      <td>With the new production plant the company woul...</td>\n",
       "    </tr>\n",
       "    <tr>\n",
       "      <th>4</th>\n",
       "      <td>positive</td>\n",
       "      <td>According to the company 's updated strategy f...</td>\n",
       "    </tr>\n",
       "  </tbody>\n",
       "</table>\n",
       "</div>"
      ],
      "text/plain": [
       "  Sentiment                                            Message\n",
       "0   neutral  According to Gran , the company has no plans t...\n",
       "1   neutral  Technopolis plans to develop in stages an area...\n",
       "2  negative  The international electronic industry company ...\n",
       "3  positive  With the new production plant the company woul...\n",
       "4  positive  According to the company 's updated strategy f..."
      ]
     },
     "execution_count": 2,
     "metadata": {},
     "output_type": "execute_result"
    }
   ],
   "source": [
    "df = pd.read_csv('all-data.csv', delimiter=',',encoding='latin-1', header = None).rename(columns = {0:\"Sentiment\", 1:\"Message\"})\n",
    "df.head()"
   ]
  },
  {
   "cell_type": "code",
   "execution_count": 3,
   "id": "a127a04e-e6a3-4d45-8617-afaf053ad8ac",
   "metadata": {},
   "outputs": [
    {
     "data": {
      "text/plain": [
       "'According to Gran , the company has no plans to move all production to Russia , although that is where the company is growing .'"
      ]
     },
     "execution_count": 3,
     "metadata": {},
     "output_type": "execute_result"
    }
   ],
   "source": [
    "df[\"Message\"][0]"
   ]
  },
  {
   "cell_type": "code",
   "execution_count": 4,
   "id": "f3c088a6-12a1-4f6b-a1b4-17e7f28b2411",
   "metadata": {},
   "outputs": [
    {
     "data": {
      "text/plain": [
       "(4846, 2)"
      ]
     },
     "execution_count": 4,
     "metadata": {},
     "output_type": "execute_result"
    }
   ],
   "source": [
    "df.shape"
   ]
  },
  {
   "cell_type": "code",
   "execution_count": 5,
   "id": "8fc0a441-5f21-4987-a488-3606e39b6b3d",
   "metadata": {},
   "outputs": [
    {
     "data": {
      "text/plain": [
       "111989"
      ]
     },
     "execution_count": 5,
     "metadata": {},
     "output_type": "execute_result"
    }
   ],
   "source": [
    "df.index = range(4846)\n",
    "df['Message'].apply(lambda x: len(x.split(' '))).sum()"
   ]
  },
  {
   "cell_type": "code",
   "execution_count": 6,
   "id": "08b6f980-2a7b-46c5-9365-e2d6c5d529c8",
   "metadata": {},
   "outputs": [],
   "source": [
    "sentiment  = {'positive': 0,'neutral': 1,'negative':2} \n",
    "df.Sentiment = [sentiment[item] for item in df.Sentiment]"
   ]
  },
  {
   "cell_type": "code",
   "execution_count": 7,
   "id": "efa5be26-dde5-4a81-91ba-613310eef1cf",
   "metadata": {},
   "outputs": [
    {
     "data": {
      "text/html": [
       "<div>\n",
       "<style scoped>\n",
       "    .dataframe tbody tr th:only-of-type {\n",
       "        vertical-align: middle;\n",
       "    }\n",
       "\n",
       "    .dataframe tbody tr th {\n",
       "        vertical-align: top;\n",
       "    }\n",
       "\n",
       "    .dataframe thead th {\n",
       "        text-align: right;\n",
       "    }\n",
       "</style>\n",
       "<table border=\"1\" class=\"dataframe\">\n",
       "  <thead>\n",
       "    <tr style=\"text-align: right;\">\n",
       "      <th></th>\n",
       "      <th>Sentiment</th>\n",
       "      <th>Message</th>\n",
       "    </tr>\n",
       "  </thead>\n",
       "  <tbody>\n",
       "    <tr>\n",
       "      <th>0</th>\n",
       "      <td>1</td>\n",
       "      <td>According to Gran , the company has no plans t...</td>\n",
       "    </tr>\n",
       "    <tr>\n",
       "      <th>1</th>\n",
       "      <td>1</td>\n",
       "      <td>Technopolis plans to develop in stages an area...</td>\n",
       "    </tr>\n",
       "    <tr>\n",
       "      <th>2</th>\n",
       "      <td>2</td>\n",
       "      <td>The international electronic industry company ...</td>\n",
       "    </tr>\n",
       "    <tr>\n",
       "      <th>3</th>\n",
       "      <td>0</td>\n",
       "      <td>With the new production plant the company woul...</td>\n",
       "    </tr>\n",
       "    <tr>\n",
       "      <th>4</th>\n",
       "      <td>0</td>\n",
       "      <td>According to the company 's updated strategy f...</td>\n",
       "    </tr>\n",
       "  </tbody>\n",
       "</table>\n",
       "</div>"
      ],
      "text/plain": [
       "   Sentiment                                            Message\n",
       "0          1  According to Gran , the company has no plans t...\n",
       "1          1  Technopolis plans to develop in stages an area...\n",
       "2          2  The international electronic industry company ...\n",
       "3          0  With the new production plant the company woul...\n",
       "4          0  According to the company 's updated strategy f..."
      ]
     },
     "execution_count": 7,
     "metadata": {},
     "output_type": "execute_result"
    }
   ],
   "source": [
    "df.head()"
   ]
  },
  {
   "cell_type": "code",
   "execution_count": 8,
   "id": "3d3bd06c-9701-4cc9-8ac1-7d8e59483b30",
   "metadata": {},
   "outputs": [],
   "source": [
    "def print_message(index):\n",
    "    example = df[df.index == index][['Message', 'Sentiment']].values[0]\n",
    "    if len(example) > 0:\n",
    "        print(example[0])\n",
    "        print('Sentiment:', example[1])"
   ]
  },
  {
   "cell_type": "code",
   "execution_count": 9,
   "id": "46d529e1-d782-45f3-95b3-72a162f7ad42",
   "metadata": {},
   "outputs": [
    {
     "name": "stdout",
     "output_type": "stream",
     "text": [
      "According to Gran , the company has no plans to move all production to Russia , although that is where the company is growing .\n",
      "Sentiment: 1\n"
     ]
    }
   ],
   "source": [
    "print_message(0)"
   ]
  },
  {
   "cell_type": "code",
   "execution_count": 10,
   "id": "c5127c80-46fe-4dd6-ac0f-cb17506cbbd1",
   "metadata": {},
   "outputs": [],
   "source": [
    "def cleanText(text):\n",
    "    text = BeautifulSoup(text, \"lxml\").text\n",
    "    text = re.sub(r'\\|\\|\\|', r' ', text) \n",
    "    text = re.sub(r'http\\S+', r'<URL>', text)\n",
    "    text = text.lower()\n",
    "    text = text.replace('x', '')\n",
    "    return text"
   ]
  },
  {
   "cell_type": "code",
   "execution_count": 11,
   "id": "f2e7432a-c34b-40e0-a90f-b1bb82c0490d",
   "metadata": {},
   "outputs": [
    {
     "ename": "NameError",
     "evalue": "name 'train' is not defined",
     "output_type": "error",
     "traceback": [
      "\u001b[0;31m---------------------------------------------------------------------------\u001b[0m",
      "\u001b[0;31mNameError\u001b[0m                                 Traceback (most recent call last)",
      "\u001b[0;32m/var/folders/h5/xy66q_8n5m91xb6gg__86s3c0000gn/T/ipykernel_86842/675275078.py\u001b[0m in \u001b[0;36m<module>\u001b[0;34m\u001b[0m\n\u001b[0;32m----> 1\u001b[0;31m \u001b[0mtrain\u001b[0m\u001b[0;34m.\u001b[0m\u001b[0mhead\u001b[0m\u001b[0;34m(\u001b[0m\u001b[0;36m1\u001b[0m\u001b[0;34m)\u001b[0m\u001b[0;34m.\u001b[0m\u001b[0mindex\u001b[0m\u001b[0;34m[\u001b[0m\u001b[0;36m0\u001b[0m\u001b[0;34m]\u001b[0m\u001b[0;34m\u001b[0m\u001b[0;34m\u001b[0m\u001b[0m\n\u001b[0m",
      "\u001b[0;31mNameError\u001b[0m: name 'train' is not defined"
     ]
    }
   ],
   "source": [
    "train.head(1).index[0]"
   ]
  },
  {
   "cell_type": "code",
   "execution_count": 12,
   "id": "457d9322-6291-4ea8-befb-3b7d489378f9",
   "metadata": {},
   "outputs": [
    {
     "name": "stdout",
     "output_type": "stream",
     "text": [
      "Found 4846 unique tokens.\n"
     ]
    }
   ],
   "source": [
    "df['Message'] = df['Message'].apply(cleanText)\n",
    "train, test = train_test_split(df, test_size=0.000001 , random_state=42)\n",
    "\n",
    "def tokenize_text(text):\n",
    "    tokens = []\n",
    "    for sent in nltk.sent_tokenize(text):\n",
    "        for word in nltk.word_tokenize(sent):\n",
    "            #if len(word) < 0:\n",
    "            if len(word) <= 0:\n",
    "                continue\n",
    "            tokens.append(word.lower())\n",
    "    return tokens\n",
    "train_tagged = train.apply(lambda r: TaggedDocument(words=tokenize_text(r['Message']), tags=[r.Sentiment]), axis=1)\n",
    "test_tagged = test.apply(lambda r: TaggedDocument(words=tokenize_text(r['Message']), tags=[r.Sentiment]), axis=1)\n",
    "\n",
    "# The maximum number of words to be used. (most frequent)\n",
    "max_fatures = 500000\n",
    "\n",
    "# Max number of words in each complaint.\n",
    "MAX_SEQUENCE_LENGTH = 50\n",
    "\n",
    "#tokenizer = Tokenizer(num_words=max_fatures, split=' ')\n",
    "tokenizer = Tokenizer(num_words=max_fatures, split=' ', filters='!\"#$%&()*+,-./:;<=>?@[\\]^_`{|}~', lower=True)\n",
    "tokenizer.fit_on_texts(df['Message'].values)\n",
    "X = tokenizer.texts_to_sequences(df['Message'].values)\n",
    "X = pad_sequences(X, maxlen=MAX_SEQUENCE_LENGTH)\n",
    "print('Found %s unique tokens.' % len(X))"
   ]
  },
  {
   "cell_type": "code",
   "execution_count": 13,
   "id": "612433c9-8daa-416f-82ae-a0964a443364",
   "metadata": {},
   "outputs": [
    {
     "data": {
      "text/plain": [
       "3207    ([the, company, was, supposed, to, deliver, ma...\n",
       "dtype: object"
      ]
     },
     "execution_count": 13,
     "metadata": {},
     "output_type": "execute_result"
    }
   ],
   "source": [
    "test_tagged"
   ]
  },
  {
   "cell_type": "code",
   "execution_count": 14,
   "id": "d2fcd41f-4cff-4932-83cf-d82378c5d51d",
   "metadata": {},
   "outputs": [
    {
     "data": {
      "text/plain": [
       "1684    ([unc, charlotte, would, also, deploy, ssh, te...\n",
       "1044    ([in, 2009, ,, lee, &, man, had, a, combined, ...\n",
       "4145    ([``, that, 's, a, very, high, figure, on, the...\n",
       "1538    ([in, finland, ,, the, corresponding, service,...\n",
       "1034    ([construction, is, scheduled, to, start, in, ...\n",
       "                              ...                        \n",
       "4426    ([the, currency, effect, had, a, 3.0, pct, ,, ...\n",
       "466     ([``, lidskoe, pivo, 's, investment, program, ...\n",
       "3092    ([products, include, consumer, electronics, de...\n",
       "3772    ([the, bridge, is, part, of, the, highway, 14,...\n",
       "860     ([(, adp, news, ), -, oct, 1, ,, 2008, -, finn...\n",
       "Length: 4845, dtype: object"
      ]
     },
     "execution_count": 14,
     "metadata": {},
     "output_type": "execute_result"
    }
   ],
   "source": [
    "train_tagged"
   ]
  },
  {
   "cell_type": "code",
   "execution_count": 15,
   "id": "fd2526e9-1bd7-4942-b671-b593c8f427a6",
   "metadata": {},
   "outputs": [
    {
     "data": {
      "text/plain": [
       "(4846, 50)"
      ]
     },
     "execution_count": 15,
     "metadata": {},
     "output_type": "execute_result"
    }
   ],
   "source": [
    "X.shape"
   ]
  },
  {
   "cell_type": "code",
   "execution_count": 16,
   "id": "e9ee07af-85dc-488f-8eac-da3f91856547",
   "metadata": {},
   "outputs": [
    {
     "name": "stderr",
     "output_type": "stream",
     "text": [
      "100%|██████████████████████████████████| 4845/4845 [00:00<00:00, 2149503.16it/s]\n"
     ]
    }
   ],
   "source": [
    "d2v_model = Doc2Vec(dm=1, dm_mean=1, vector_size=20, window=8, min_count=1, workers=1, alpha=0.065, min_alpha=0.065)\n",
    "d2v_model.build_vocab([x for x in tqdm(train_tagged.values)])"
   ]
  },
  {
   "cell_type": "code",
   "execution_count": 17,
   "id": "26c75abf-7f89-4fc5-8f7f-a9873db2de65",
   "metadata": {},
   "outputs": [
    {
     "name": "stderr",
     "output_type": "stream",
     "text": [
      "100%|██████████████████████████████████| 4845/4845 [00:00<00:00, 4840734.37it/s]\n",
      "100%|██████████████████████████████████| 4845/4845 [00:00<00:00, 7633885.38it/s]\n",
      "100%|██████████████████████████████████| 4845/4845 [00:00<00:00, 7198513.24it/s]\n",
      "100%|██████████████████████████████████| 4845/4845 [00:00<00:00, 7365495.79it/s]\n",
      "100%|██████████████████████████████████| 4845/4845 [00:00<00:00, 7198513.24it/s]\n",
      "100%|██████████████████████████████████| 4845/4845 [00:00<00:00, 7208727.52it/s]\n",
      "100%|██████████████████████████████████| 4845/4845 [00:00<00:00, 7309857.15it/s]\n",
      "100%|██████████████████████████████████| 4845/4845 [00:00<00:00, 7115337.14it/s]\n",
      "100%|██████████████████████████████████| 4845/4845 [00:00<00:00, 7430129.02it/s]\n",
      "100%|██████████████████████████████████| 4845/4845 [00:00<00:00, 7175636.61it/s]\n",
      "100%|██████████████████████████████████| 4845/4845 [00:00<00:00, 7185786.03it/s]\n",
      "100%|██████████████████████████████████| 4845/4845 [00:00<00:00, 7336246.53it/s]\n",
      "100%|██████████████████████████████████| 4845/4845 [00:00<00:00, 7750344.35it/s]\n",
      "100%|██████████████████████████████████| 4845/4845 [00:00<00:00, 7188327.87it/s]\n",
      "100%|██████████████████████████████████| 4845/4845 [00:00<00:00, 7373513.38it/s]\n",
      "100%|██████████████████████████████████| 4845/4845 [00:00<00:00, 7341547.28it/s]\n",
      "100%|██████████████████████████████████| 4845/4845 [00:00<00:00, 6842223.19it/s]\n",
      "100%|██████████████████████████████████| 4845/4845 [00:00<00:00, 7178171.28it/s]\n",
      "100%|██████████████████████████████████| 4845/4845 [00:00<00:00, 7170572.65it/s]\n",
      "100%|██████████████████████████████████| 4845/4845 [00:00<00:00, 7317754.01it/s]\n",
      "100%|██████████████████████████████████| 4845/4845 [00:00<00:00, 7198513.24it/s]\n",
      "100%|██████████████████████████████████| 4845/4845 [00:00<00:00, 6980901.02it/s]\n",
      "100%|██████████████████████████████████| 4845/4845 [00:00<00:00, 6673695.53it/s]\n",
      "100%|██████████████████████████████████| 4845/4845 [00:00<00:00, 7365495.79it/s]\n",
      "100%|██████████████████████████████████| 4845/4845 [00:00<00:00, 7175636.61it/s]\n",
      "100%|██████████████████████████████████| 4845/4845 [00:00<00:00, 6902650.43it/s]\n",
      "100%|██████████████████████████████████| 4845/4845 [00:00<00:00, 7265428.27it/s]\n",
      "100%|██████████████████████████████████| 4845/4845 [00:00<00:00, 7175636.61it/s]\n",
      "100%|██████████████████████████████████| 4845/4845 [00:00<00:00, 7729708.21it/s]\n",
      "100%|██████████████████████████████████| 4845/4845 [00:00<00:00, 7165515.83it/s]\n"
     ]
    },
    {
     "name": "stdout",
     "output_type": "stream",
     "text": [
      "CPU times: user 3.5 s, sys: 45.1 ms, total: 3.54 s\n",
      "Wall time: 3.53 s\n"
     ]
    }
   ],
   "source": [
    "%%time\n",
    "for epoch in range(30):\n",
    "    d2v_model.train(utils.shuffle([x for x in tqdm(train_tagged.values)]), total_examples=len(train_tagged.values), epochs=1)\n",
    "    d2v_model.alpha -= 0.002\n",
    "    d2v_model.min_alpha = d2v_model.alpha"
   ]
  },
  {
   "cell_type": "code",
   "execution_count": 18,
   "id": "d2e218ac-7e2e-4506-87d1-fa3fb2d05518",
   "metadata": {},
   "outputs": [
    {
     "name": "stdout",
     "output_type": "stream",
     "text": [
      "Doc2Vec(dm/m,d20,n5,w8,s0.001)\n"
     ]
    }
   ],
   "source": [
    "print(d2v_model)"
   ]
  },
  {
   "cell_type": "code",
   "execution_count": 19,
   "id": "e2338ffa-8f93-4618-83aa-7a2b1122dff6",
   "metadata": {},
   "outputs": [
    {
     "data": {
      "text/plain": [
       "11682"
      ]
     },
     "execution_count": 19,
     "metadata": {},
     "output_type": "execute_result"
    }
   ],
   "source": [
    "len(d2v_model.wv.index_to_key)"
   ]
  },
  {
   "cell_type": "code",
   "execution_count": 20,
   "id": "1308e3c1-8298-4832-9228-ad51bb45d12e",
   "metadata": {},
   "outputs": [],
   "source": [
    "embedding_matrix = np.zeros((len(d2v_model.wv.key_to_index) + 1, 20))\n",
    "\n",
    "# for i, vec in enumerate(d2v_model.wv):\n",
    "#     # while i <= 3:\n",
    "#     # print(i)\n",
    "#     # print(vec)\n",
    "#     #print(model.docvecs)\n",
    "#     embedding_matrix[i]=vec\n",
    "#     if i == 11681:\n",
    "#         break\n",
    "#     #print(vec)\n",
    "#     #print(vec[i])"
   ]
  },
  {
   "cell_type": "code",
   "execution_count": 21,
   "id": "d0cbec4e-a25c-49db-841e-9e7d837416d2",
   "metadata": {},
   "outputs": [
    {
     "data": {
      "text/plain": [
       "array([[0., 0., 0., ..., 0., 0., 0.],\n",
       "       [0., 0., 0., ..., 0., 0., 0.],\n",
       "       [0., 0., 0., ..., 0., 0., 0.],\n",
       "       ...,\n",
       "       [0., 0., 0., ..., 0., 0., 0.],\n",
       "       [0., 0., 0., ..., 0., 0., 0.],\n",
       "       [0., 0., 0., ..., 0., 0., 0.]])"
      ]
     },
     "execution_count": 21,
     "metadata": {},
     "output_type": "execute_result"
    }
   ],
   "source": [
    "embedding_matrix"
   ]
  },
  {
   "cell_type": "code",
   "execution_count": 22,
   "id": "1ed99592-28c5-4006-902f-c56ba60c6ddf",
   "metadata": {},
   "outputs": [
    {
     "data": {
      "text/plain": [
       "11683"
      ]
     },
     "execution_count": 22,
     "metadata": {},
     "output_type": "execute_result"
    }
   ],
   "source": [
    "len(embedding_matrix)"
   ]
  },
  {
   "cell_type": "code",
   "execution_count": 23,
   "id": "b46da2e2-4302-4836-a734-0c819feb53cf",
   "metadata": {},
   "outputs": [
    {
     "data": {
      "text/plain": [
       "<gensim.models.keyedvectors.KeyedVectors at 0x162238970>"
      ]
     },
     "execution_count": 23,
     "metadata": {},
     "output_type": "execute_result"
    }
   ],
   "source": [
    "d2v_model.dv"
   ]
  },
  {
   "cell_type": "code",
   "execution_count": 24,
   "id": "ba0e6d04-80c8-438d-94eb-9fe57ec24afd",
   "metadata": {},
   "outputs": [
    {
     "data": {
      "text/plain": [
       "3"
      ]
     },
     "execution_count": 24,
     "metadata": {},
     "output_type": "execute_result"
    }
   ],
   "source": [
    "len(d2v_model.dv)"
   ]
  },
  {
   "cell_type": "code",
   "execution_count": 50,
   "id": "1cf778a7-35bc-44ce-ba15-d0f82377360d",
   "metadata": {},
   "outputs": [],
   "source": [
    "# from sklearn.manifold import TSNE\n",
    "# import matplotlib.pyplot as plt\n",
    "# %matplotlib inline\n",
    "\n",
    "# def tsne_plot(model):\n",
    "#     \"Creates and TSNE model and plots it\"\n",
    "#     labels = []\n",
    "#     tokens = []\n",
    "\n",
    "#     for word in d2v_model.wv.key_to_index:\n",
    "#         tokens.append(model[word])\n",
    "#         labels.append(word)\n",
    "    \n",
    "#     tsne_model = TSNE(perplexity=40, n_components=2, init='pca', n_iter=250, random_state=23)\n",
    "#     new_values = tsne_model.fit_transform(tokens)\n",
    "\n",
    "#     x = []\n",
    "#     y = []\n",
    "#     for value in new_values:\n",
    "#         x.append(value[0])\n",
    "#         y.append(value[1])\n",
    "        \n",
    "#     plt.figure(figsize=(16, 16)) \n",
    "#     for i in range(len(x)):\n",
    "#         plt.scatter(x[i],y[i])\n",
    "#         plt.annotate(labels[i],\n",
    "#                      xy=(x[i], y[i]),\n",
    "#                      xytext=(5, 2),\n",
    "#                      textcoords='offset points',\n",
    "#                      ha='right',\n",
    "#                      va='bottom')\n",
    "#     plt.show()"
   ]
  },
  {
   "cell_type": "code",
   "execution_count": 26,
   "id": "3c5ef6f9-97cd-43bf-8bd9-a546b140e6b9",
   "metadata": {},
   "outputs": [],
   "source": [
    "# tsne_plot(d2v_model)"
   ]
  },
  {
   "cell_type": "code",
   "execution_count": 27,
   "id": "9edaa23f-157f-44d9-b7a4-ae9ec4b7b263",
   "metadata": {},
   "outputs": [],
   "source": [
    "# word_index = tokenizer.word_index"
   ]
  },
  {
   "cell_type": "code",
   "execution_count": 28,
   "id": "8519b397-497b-40ba-83b6-0d4dca0a61cb",
   "metadata": {},
   "outputs": [],
   "source": [
    "# word_index"
   ]
  },
  {
   "cell_type": "code",
   "execution_count": 29,
   "id": "6d4e0223-8b5a-418a-8436-dc0a67eecd92",
   "metadata": {},
   "outputs": [],
   "source": [
    "# def get_weight_matrix(model, vocab):\n",
    "#     # total vocabulary size plus 0 for unknown words\n",
    "#     vocab_size = len(vocab) + 1\n",
    "#     # define weight matrix dimensions with all 0\n",
    "#     weight_matrix = np.zeros((len(d2v_model.wv.key_to_index) + 1, 20))\n",
    "#     # step vocab, store vectors using the Tokenizer's integer mapping\n",
    "#     for word, i in vocab.items():\n",
    "#         weight_matrix[i] = model[word]\n",
    "#     return weight_matrix"
   ]
  },
  {
   "cell_type": "code",
   "execution_count": 30,
   "id": "d5e48864-52b2-481e-9bcf-2df4b4d044be",
   "metadata": {},
   "outputs": [],
   "source": [
    "# embedding_vectors = get_weight_matrix(d2v_model, word_index)"
   ]
  },
  {
   "cell_type": "code",
   "execution_count": 31,
   "id": "a50ed4f7-3615-4b89-8b7b-a3f8c635d2f4",
   "metadata": {},
   "outputs": [],
   "source": [
    "from keras.models import Sequential\n",
    "from keras.layers import LSTM, Dense, Embedding"
   ]
  },
  {
   "cell_type": "code",
   "execution_count": 32,
   "id": "8ff1cb44-e2ce-44eb-a473-a1e3d26ad9b5",
   "metadata": {},
   "outputs": [
    {
     "name": "stdout",
     "output_type": "stream",
     "text": [
      "Metal device set to: Apple M1 Pro\n"
     ]
    },
    {
     "name": "stderr",
     "output_type": "stream",
     "text": [
      "2022-02-06 16:58:01.031329: I tensorflow/core/common_runtime/pluggable_device/pluggable_device_factory.cc:305] Could not identify NUMA node of platform GPU ID 0, defaulting to 0. Your kernel may not have been built with NUMA support.\n",
      "2022-02-06 16:58:01.032296: I tensorflow/core/common_runtime/pluggable_device/pluggable_device_factory.cc:271] Created TensorFlow device (/job:localhost/replica:0/task:0/device:GPU:0 with 0 MB memory) -> physical PluggableDevice (device: 0, name: METAL, pci bus id: <undefined>)\n"
     ]
    },
    {
     "name": "stdout",
     "output_type": "stream",
     "text": [
      "Model: \"sequential\"\n",
      "_________________________________________________________________\n",
      "Layer (type)                 Output Shape              Param #   \n",
      "=================================================================\n",
      "embedding (Embedding)        (None, 50, 20)            233660    \n",
      "_________________________________________________________________\n",
      "lstm (LSTM)                  (None, 50)                14200     \n",
      "_________________________________________________________________\n",
      "dense (Dense)                (None, 3)                 153       \n",
      "=================================================================\n",
      "Total params: 248,013\n",
      "Trainable params: 248,013\n",
      "Non-trainable params: 0\n",
      "_________________________________________________________________\n"
     ]
    }
   ],
   "source": [
    "model = Sequential()\n",
    "\n",
    "# emmbed word vectors\n",
    "model.add(Embedding(len(d2v_model.wv.key_to_index)+1,20,input_length=X.shape[1], weights=[embedding_matrix], trainable=True))\n",
    "\n",
    "# learn the correlations\n",
    "def split_input(sequence):\n",
    "     return sequence[:-1], tf.reshape(sequence[1:], (-1,1))\n",
    "model.add(LSTM(50,return_sequences=False))\n",
    "model.add(Dense(3,activation=\"softmax\"))\n",
    "\n",
    "# output model skeleton\n",
    "model.summary()\n",
    "model.compile(optimizer=\"adam\",loss=\"binary_crossentropy\",metrics=['acc'])"
   ]
  },
  {
   "cell_type": "code",
   "execution_count": 33,
   "id": "79a208fc-858c-4d9f-9087-e8fce0840285",
   "metadata": {},
   "outputs": [
    {
     "name": "stdout",
     "output_type": "stream",
     "text": [
      "('You must install pydot (`pip install pydot`) and install graphviz (see instructions at https://graphviz.gitlab.io/download/) ', 'for plot_model/model_to_dot to work.')\n"
     ]
    }
   ],
   "source": [
    "from tensorflow.keras.utils import plot_model\n",
    "plot_model(model, to_file='model.png')"
   ]
  },
  {
   "cell_type": "code",
   "execution_count": 34,
   "id": "5095d3ad-b4fd-4f34-a99f-1d00589431ff",
   "metadata": {},
   "outputs": [
    {
     "name": "stdout",
     "output_type": "stream",
     "text": [
      "(4119, 50) (4119, 3)\n",
      "(727, 50) (727, 3)\n"
     ]
    }
   ],
   "source": [
    "Y = pd.get_dummies(df['Sentiment']).values\n",
    "X_train, X_test, Y_train, Y_test = train_test_split(X,Y, test_size = 0.15, random_state = 42)\n",
    "print(X_train.shape,Y_train.shape)\n",
    "print(X_test.shape,Y_test.shape)"
   ]
  },
  {
   "cell_type": "code",
   "execution_count": 35,
   "id": "cd70cdd7-b59f-4204-a7b7-ab6a0581cfcd",
   "metadata": {},
   "outputs": [
    {
     "name": "stderr",
     "output_type": "stream",
     "text": [
      "2022-02-06 16:58:01.565914: I tensorflow/compiler/mlir/mlir_graph_optimization_pass.cc:185] None of the MLIR Optimization Passes are enabled (registered 2)\n",
      "2022-02-06 16:58:01.568474: W tensorflow/core/platform/profile_utils/cpu_utils.cc:128] Failed to get CPU frequency: 0 Hz\n"
     ]
    },
    {
     "name": "stdout",
     "output_type": "stream",
     "text": [
      "Epoch 1/50\n"
     ]
    },
    {
     "name": "stderr",
     "output_type": "stream",
     "text": [
      "2022-02-06 16:58:01.993156: I tensorflow/core/grappler/optimizers/custom_graph_optimizer_registry.cc:112] Plugin optimizer for device_type GPU is enabled.\n",
      "2022-02-06 16:58:02.151926: I tensorflow/core/grappler/optimizers/custom_graph_optimizer_registry.cc:112] Plugin optimizer for device_type GPU is enabled.\n",
      "2022-02-06 16:58:02.319743: I tensorflow/core/grappler/optimizers/custom_graph_optimizer_registry.cc:112] Plugin optimizer for device_type GPU is enabled.\n"
     ]
    },
    {
     "name": "stdout",
     "output_type": "stream",
     "text": [
      "129/129 - 4s - loss: 0.5523 - acc: 0.5972\n",
      "Epoch 2/50\n",
      "129/129 - 3s - loss: 0.4502 - acc: 0.6686\n",
      "Epoch 3/50\n",
      "129/129 - 3s - loss: 0.4636 - acc: 0.6689\n",
      "Epoch 4/50\n",
      "129/129 - 3s - loss: 0.4684 - acc: 0.6696\n",
      "Epoch 5/50\n",
      "129/129 - 3s - loss: 0.4549 - acc: 0.6858\n",
      "Epoch 6/50\n",
      "129/129 - 3s - loss: 0.4563 - acc: 0.6817\n",
      "Epoch 7/50\n",
      "129/129 - 3s - loss: 0.4420 - acc: 0.6941\n",
      "Epoch 8/50\n",
      "129/129 - 3s - loss: 0.4299 - acc: 0.7050\n",
      "Epoch 9/50\n",
      "129/129 - 3s - loss: 0.4129 - acc: 0.7186\n",
      "Epoch 10/50\n",
      "129/129 - 3s - loss: 0.4048 - acc: 0.7227\n",
      "Epoch 11/50\n",
      "129/129 - 3s - loss: 0.3914 - acc: 0.7342\n",
      "Epoch 12/50\n",
      "129/129 - 3s - loss: 0.3830 - acc: 0.7376\n",
      "Epoch 13/50\n",
      "129/129 - 3s - loss: 0.3699 - acc: 0.7456\n",
      "Epoch 14/50\n",
      "129/129 - 3s - loss: 0.3596 - acc: 0.7519\n",
      "Epoch 15/50\n",
      "129/129 - 3s - loss: 0.3541 - acc: 0.7490\n",
      "Epoch 16/50\n",
      "129/129 - 3s - loss: 0.3436 - acc: 0.7514\n",
      "Epoch 17/50\n",
      "129/129 - 3s - loss: 0.3335 - acc: 0.7618\n",
      "Epoch 18/50\n",
      "129/129 - 3s - loss: 0.3213 - acc: 0.7691\n",
      "Epoch 19/50\n",
      "129/129 - 3s - loss: 0.3172 - acc: 0.7728\n",
      "Epoch 20/50\n",
      "129/129 - 3s - loss: 0.2681 - acc: 0.8237\n",
      "Epoch 21/50\n",
      "129/129 - 3s - loss: 0.2281 - acc: 0.8609\n",
      "Epoch 22/50\n",
      "129/129 - 3s - loss: 0.2076 - acc: 0.8759\n",
      "Epoch 23/50\n",
      "129/129 - 3s - loss: 0.1830 - acc: 0.8920\n",
      "Epoch 24/50\n",
      "129/129 - 3s - loss: 0.1678 - acc: 0.8944\n",
      "Epoch 25/50\n",
      "129/129 - 3s - loss: 0.1479 - acc: 0.9126\n",
      "Epoch 26/50\n",
      "129/129 - 3s - loss: 0.1395 - acc: 0.9175\n",
      "Epoch 27/50\n",
      "129/129 - 3s - loss: 0.1309 - acc: 0.9221\n",
      "Epoch 28/50\n",
      "129/129 - 3s - loss: 0.1151 - acc: 0.9308\n",
      "Epoch 29/50\n",
      "129/129 - 3s - loss: 0.1074 - acc: 0.9381\n",
      "Epoch 30/50\n",
      "129/129 - 3s - loss: 0.1075 - acc: 0.9335\n",
      "Epoch 31/50\n",
      "129/129 - 3s - loss: 0.1000 - acc: 0.9391\n",
      "Epoch 32/50\n",
      "129/129 - 3s - loss: 0.0950 - acc: 0.9412\n",
      "Epoch 33/50\n",
      "129/129 - 3s - loss: 0.0905 - acc: 0.9466\n",
      "Epoch 34/50\n",
      "129/129 - 3s - loss: 0.0859 - acc: 0.9497\n",
      "Epoch 35/50\n",
      "129/129 - 3s - loss: 0.1003 - acc: 0.9427\n",
      "Epoch 36/50\n",
      "129/129 - 3s - loss: 0.0827 - acc: 0.9497\n",
      "Epoch 37/50\n",
      "129/129 - 3s - loss: 0.0784 - acc: 0.9524\n",
      "Epoch 38/50\n",
      "129/129 - 3s - loss: 0.0793 - acc: 0.9529\n",
      "Epoch 39/50\n",
      "129/129 - 3s - loss: 0.0823 - acc: 0.9512\n",
      "Epoch 40/50\n",
      "129/129 - 3s - loss: 0.0798 - acc: 0.9551\n",
      "Epoch 41/50\n",
      "129/129 - 3s - loss: 0.0653 - acc: 0.9646\n",
      "Epoch 42/50\n",
      "129/129 - 3s - loss: 0.0578 - acc: 0.9692\n",
      "Epoch 43/50\n",
      "129/129 - 3s - loss: 0.0550 - acc: 0.9711\n",
      "Epoch 44/50\n",
      "129/129 - 3s - loss: 0.0513 - acc: 0.9735\n",
      "Epoch 45/50\n",
      "129/129 - 3s - loss: 0.0536 - acc: 0.9728\n",
      "Epoch 46/50\n",
      "129/129 - 3s - loss: 0.0573 - acc: 0.9672\n",
      "Epoch 47/50\n",
      "129/129 - 3s - loss: 0.1040 - acc: 0.9420\n",
      "Epoch 48/50\n",
      "129/129 - 3s - loss: 0.0590 - acc: 0.9692\n",
      "Epoch 49/50\n",
      "129/129 - 3s - loss: 0.0506 - acc: 0.9735\n",
      "Epoch 50/50\n",
      "129/129 - 3s - loss: 0.0454 - acc: 0.9760\n"
     ]
    }
   ],
   "source": [
    "batch_size = 32\n",
    "history=model.fit(X_train, Y_train, epochs =50, batch_size=batch_size, verbose = 2)"
   ]
  },
  {
   "cell_type": "code",
   "execution_count": 36,
   "id": "fe533e2d-9cc1-458f-a2b4-9de1ae7e250a",
   "metadata": {},
   "outputs": [
    {
     "data": {
      "image/png": "[encoded data removed]",
      "text/plain": [
       "<Figure size 432x288 with 1 Axes>"
      ]
     },
     "metadata": {
      "needs_background": "light"
     },
     "output_type": "display_data"
    },
    {
     "data": {
      "image/png": "[encoded data removed]",
      "text/plain": [
       "<Figure size 432x288 with 1 Axes>"
      ]
     },
     "metadata": {
      "needs_background": "light"
     },
     "output_type": "display_data"
    }
   ],
   "source": [
    "plt.plot(history.history['acc'])\n",
    "plt.title('model accuracy')\n",
    "plt.ylabel('acc')\n",
    "plt.xlabel('epochs')\n",
    "plt.legend(['train', 'test'], loc='upper left')\n",
    "plt.savefig('model_accuracy.png')\n",
    "plt.show()\n",
    "\n",
    "# summarize history for loss\n",
    "plt.plot(history.history['loss'])\n",
    "#plt.plot(history.history['val_loss'])\n",
    "plt.title('model loss')\n",
    "plt.ylabel('loss')\n",
    "plt.xlabel('epochs')\n",
    "plt.legend(['train', 'test'], loc='upper left')\n",
    "plt.savefig('model_loss.png')\n",
    "plt.show()"
   ]
  },
  {
   "cell_type": "code",
   "execution_count": 37,
   "id": "0cb8aac1-dffd-4e08-b479-d29c5861c2d1",
   "metadata": {},
   "outputs": [
    {
     "name": "stderr",
     "output_type": "stream",
     "text": [
      "2022-02-06 17:03:56.313180: I tensorflow/core/grappler/optimizers/custom_graph_optimizer_registry.cc:112] Plugin optimizer for device_type GPU is enabled.\n",
      "2022-02-06 17:03:56.358795: I tensorflow/core/grappler/optimizers/custom_graph_optimizer_registry.cc:112] Plugin optimizer for device_type GPU is enabled.\n"
     ]
    },
    {
     "name": "stdout",
     "output_type": "stream",
     "text": [
      "129/129 - 2s - loss: 0.0389 - acc: 0.9820\n",
      "23/23 - 0s - loss: 1.1288 - acc: 0.6107\n",
      "Train: 0.982, Test: 0.6107\n"
     ]
    }
   ],
   "source": [
    "# evaluate the model\n",
    "_, train_acc = model.evaluate(X_train, Y_train, verbose=2)\n",
    "_, test_acc = model.evaluate(X_test, Y_test, verbose=2)\n",
    "print('Train: %.3f, Test: %.4f' % (train_acc, test_acc))"
   ]
  },
  {
   "cell_type": "code",
   "execution_count": 38,
   "id": "6bb29011-8892-42aa-ad91-661416939faa",
   "metadata": {},
   "outputs": [
    {
     "name": "stderr",
     "output_type": "stream",
     "text": [
      "2022-02-06 17:03:59.475882: I tensorflow/core/grappler/optimizers/custom_graph_optimizer_registry.cc:112] Plugin optimizer for device_type GPU is enabled.\n",
      "2022-02-06 17:03:59.496971: I tensorflow/core/grappler/optimizers/custom_graph_optimizer_registry.cc:112] Plugin optimizer for device_type GPU is enabled.\n"
     ]
    },
    {
     "name": "stdout",
     "output_type": "stream",
     "text": [
      "[[6.7494409e-03 3.0009817e-02 9.6324068e-01]\n",
      " [3.1570043e-08 9.9999988e-01 6.5220107e-08]\n",
      " [1.0887172e-01 8.7161779e-01 1.9510495e-02]\n",
      " ...\n",
      " [5.4207698e-07 9.9999726e-01 2.2188510e-06]\n",
      " [8.6013266e-08 9.9999988e-01 1.6164933e-08]\n",
      " [8.7576556e-01 7.6549599e-04 1.2346894e-01]]\n",
      "[2 1 1 1 1 1 2 2 0 1 1 0 1 1 1 1 1 2 0 1 2 1 1 1 1 1 0 1 1 1 1 1 1 2 1 1 0\n",
      " 0 1 1 0 1 1 0 0 2 1 1 2 1 1 0 0 2 1 1 1 1 1 1 2 0 2 1 2 1 0 0 1 2 1 0 2 1\n",
      " 1 1 1 0 1 0 1 2 1 2 0 0 2 2 2 0 0 1 1 2 0 1 2 1 1 1 2 1 1 1 1 2 2 1 2 1 1\n",
      " 0 2 1 1 1 1 1 0 0 2 1 1 1 0 1 2 2 0 0 1 0 0 1 0 0 0 1 0 0 1 1 2 2 1 2 1 1\n",
      " 0 1 1 2 0 1 1 2 1 0 2 2 1 1 1 1 1 0 0 1 0 1 1 0 1 2 0 0 1 1 0 0 0 0 1 1 1\n",
      " 2 0 0 1 1 1 0 0 1 1 2 1 0 2 0 1 1 2 0 1 1 1 1 1 2 1 1 0 1 0 1 1 2 0 1 0 0\n",
      " 1 0 1 1 2 0 0 1 1 1 2 0 1 2 1 0 2 1 0 1 1 1 1 0 2 2 2 0 1 1 0 0 2 0 1 1 0\n",
      " 1 1 0 1 0 2 1 0 0 1 1 1 2 0 1 2 1 1 1 1 1 0 1 1 2 1 1 0 1 0 2 1 1 2 1 0 1\n",
      " 0 2 2 1 0 1 1 1 1 1 1 0 1 0 1 2 0 1 1 1 0 1 2 1 2 1 2 1 0 1 1 0 1 1 1 0 0\n",
      " 0 0 1 0 1 1 1 1 1 0 0 1 1 1 1 0 1 1 1 1 1 1 0 2 1 2 0 1 1 1 1 1 2 0 1 1 0\n",
      " 0 0 1 2 0 1 1 1 0 1 1 1 2 1 0 1 2 1 1 1 2 1 1 2 1 0 0 1 1 0 1 0 1 0 2 2 1\n",
      " 0 1 0 1 1 0 1 1 1 1 0 0 0 1 0 1 2 2 0 2 2 1 0 0 0 0 0 0 1 0 0 2 0 1 1 0 0\n",
      " 0 1 0 2 0 2 1 1 1 1 0 0 2 0 1 1 1 0 1 1 1 0 0 2 1 2 1 1 1 1 1 1 0 1 1 1 1\n",
      " 1 0 1 1 0 1 2 1 1 1 1 1 1 0 0 1 2 1 0 0 1 1 1 1 0 0 0 1 1 1 1 2 1 0 0 2 1\n",
      " 0 1 2 0 0 2 1 2 0 0 1 1 1 1 0 1 1 1 1 1 1 1 2 1 1 0 1 1 0 0 1 1 1 2 1 1 0\n",
      " 2 2 1 1 1 1 1 2 0 2 0 0 1 2 0 1 0 2 1 1 1 1 1 2 1 2 0 0 2 0 0 0 1 0 1 1 0\n",
      " 1 0 0 1 0 2 2 1 1 1 0 1 1 0 2 1 2 1 0 1 1 2 1 0 1 2 2 1 1 2 1 1 0 1 1 2 1\n",
      " 1 0 0 0 1 0 2 2 0 1 1 1 1 1 1 1 2 0 0 1 1 0 1 1 0 1 1 2 0 1 2 2 1 2 2 1 2\n",
      " 1 1 1 1 1 1 2 1 1 1 0 0 1 2 2 1 0 1 1 0 0 2 1 0 2 1 0 1 1 2 1 1 0 1 1 0 1\n",
      " 1 0 0 0 0 1 1 1 1 0 1 0 1 0 0 1 1 1 0 0 1 1 1 0]\n"
     ]
    }
   ],
   "source": [
    "# predict probabilities for test set\n",
    "yhat_probs = model.predict(X_test, verbose=0)\n",
    "print(yhat_probs)\n",
    "# predict crisp classes for test set\n",
    "yhat_classes = np.argmax(yhat_probs,axis=1)\n",
    "print(yhat_classes)\n",
    "# reduce to 1d array\n",
    "#yhat_probs = yhat_probs[:, 0]\n",
    "#yhat_classes = yhat_classes[:, 1"
   ]
  },
  {
   "cell_type": "code",
   "execution_count": 39,
   "id": "9c3cd51b-6833-47ec-908c-3f8628e1931e",
   "metadata": {},
   "outputs": [
    {
     "data": {
      "text/plain": [
       "array([1, 1, 1, 1, 1, 1, 0, 1, 1, 1, 1, 0, 1, 1, 1, 1, 1, 1, 1, 2, 2, 1,\n",
       "       0, 1, 1, 0, 1, 1, 1, 2, 1, 1, 1, 2, 1, 0, 2, 1, 1, 2, 0, 1, 1, 1,\n",
       "       0, 2, 0, 1, 0, 1, 1, 1, 0, 2, 1, 0, 1, 1, 1, 1, 0, 0, 2, 1, 0, 1,\n",
       "       0, 0, 1, 1, 1, 0, 1, 1, 0, 1, 1, 1, 1, 0, 1, 2, 0, 2, 0, 0, 1, 0,\n",
       "       1, 0, 0, 1, 2, 1, 1, 1, 1, 1, 0, 1, 1, 1, 1, 1, 1, 1, 1, 0, 1, 2,\n",
       "       1, 0, 2, 1, 0, 0, 1, 0, 0, 1, 0, 1, 1, 1, 1, 0, 2, 1, 0, 1, 2, 0,\n",
       "       1, 1, 0, 1, 0, 2, 0, 1, 1, 1, 2, 0, 1, 1, 1, 1, 0, 1, 1, 0, 1, 0,\n",
       "       1, 1, 1, 0, 2, 2, 0, 0, 1, 0, 1, 0, 1, 2, 1, 1, 1, 0, 1, 0, 0, 1,\n",
       "       1, 1, 1, 0, 0, 0, 1, 0, 1, 2, 0, 2, 1, 1, 1, 1, 0, 1, 1, 0, 1, 1,\n",
       "       1, 0, 1, 1, 0, 2, 1, 0, 1, 1, 0, 1, 1, 1, 1, 1, 0, 1, 1, 2, 0, 1,\n",
       "       1, 1, 1, 1, 1, 1, 1, 0, 1, 1, 1, 0, 0, 0, 1, 0, 0, 0, 1, 0, 1, 1,\n",
       "       1, 2, 0, 0, 0, 1, 1, 0, 1, 1, 0, 0, 1, 1, 1, 1, 1, 1, 1, 0, 1, 0,\n",
       "       2, 1, 2, 1, 1, 0, 1, 1, 2, 1, 1, 0, 1, 1, 1, 1, 1, 0, 1, 2, 1, 1,\n",
       "       0, 1, 2, 1, 0, 1, 0, 2, 2, 1, 1, 1, 0, 0, 0, 2, 1, 2, 1, 1, 1, 0,\n",
       "       1, 0, 0, 2, 1, 1, 1, 1, 1, 1, 2, 1, 2, 1, 0, 1, 0, 1, 1, 1, 0, 1,\n",
       "       1, 0, 0, 0, 0, 1, 1, 0, 1, 1, 1, 1, 1, 1, 1, 0, 2, 0, 2, 1, 0, 1,\n",
       "       0, 1, 1, 1, 0, 1, 2, 1, 0, 1, 1, 1, 0, 0, 1, 1, 1, 0, 0, 0, 1, 1,\n",
       "       2, 0, 1, 1, 2, 1, 1, 1, 2, 1, 0, 1, 0, 0, 1, 0, 1, 0, 1, 0, 1, 2,\n",
       "       0, 0, 0, 0, 1, 0, 1, 1, 2, 2, 0, 2, 1, 1, 1, 1, 0, 0, 1, 2, 0, 1,\n",
       "       1, 0, 1, 1, 1, 2, 2, 0, 2, 2, 0, 0, 0, 0, 1, 1, 1, 1, 1, 0, 2, 0,\n",
       "       0, 0, 1, 1, 1, 1, 0, 2, 0, 1, 1, 1, 1, 1, 1, 1, 2, 1, 1, 0, 0, 1,\n",
       "       1, 1, 1, 1, 1, 2, 1, 2, 0, 1, 1, 1, 1, 1, 0, 1, 1, 0, 1, 0, 1, 0,\n",
       "       1, 1, 1, 1, 0, 1, 1, 1, 1, 1, 1, 1, 1, 1, 1, 1, 1, 2, 1, 1, 1, 1,\n",
       "       1, 1, 2, 1, 1, 1, 0, 1, 0, 1, 0, 1, 0, 1, 0, 0, 0, 2, 1, 1, 0, 0,\n",
       "       1, 1, 1, 1, 0, 1, 1, 2, 0, 1, 1, 1, 1, 1, 1, 0, 1, 1, 0, 0, 2, 1,\n",
       "       1, 2, 1, 1, 1, 0, 2, 1, 1, 1, 1, 1, 2, 2, 1, 0, 0, 1, 2, 1, 0, 2,\n",
       "       0, 1, 1, 1, 1, 1, 2, 1, 1, 0, 0, 1, 0, 0, 0, 1, 1, 0, 0, 0, 1, 1,\n",
       "       0, 1, 1, 1, 2, 1, 1, 1, 0, 1, 1, 0, 2, 1, 2, 1, 0, 1, 0, 0, 1, 1,\n",
       "       2, 2, 1, 0, 1, 2, 1, 1, 1, 0, 1, 1, 0, 1, 1, 0, 2, 1, 0, 1, 0, 0,\n",
       "       1, 1, 1, 1, 1, 1, 1, 0, 0, 1, 1, 1, 0, 0, 0, 0, 1, 0, 2, 0, 1, 0,\n",
       "       0, 0, 1, 1, 1, 2, 1, 1, 1, 1, 1, 1, 1, 1, 0, 1, 1, 1, 0, 2, 0, 1,\n",
       "       1, 1, 1, 2, 1, 0, 1, 0, 1, 2, 0, 1, 1, 1, 0, 0, 1, 1, 0, 0, 1, 1,\n",
       "       2, 1, 2, 0, 1, 0, 1, 1, 1, 1, 1, 1, 1, 0, 1, 0, 1, 0, 0, 0, 1, 0,\n",
       "       1])"
      ]
     },
     "execution_count": 39,
     "metadata": {},
     "output_type": "execute_result"
    }
   ],
   "source": [
    "import numpy as np\n",
    "rounded_labels=np.argmax(Y_test, axis=1)\n",
    "rounded_labels"
   ]
  },
  {
   "cell_type": "code",
   "execution_count": 40,
   "id": "863eca79-27ed-4cbc-a2a7-be99a3be041d",
   "metadata": {},
   "outputs": [
    {
     "data": {
      "text/plain": [
       "array([[105,  78,  33],\n",
       "       [ 88, 293,  46],\n",
       "       [ 18,  20,  46]])"
      ]
     },
     "execution_count": 40,
     "metadata": {},
     "output_type": "execute_result"
    }
   ],
   "source": [
    "from sklearn.metrics import confusion_matrix\n",
    "cm = confusion_matrix(rounded_labels, yhat_classes)\n",
    "cm"
   ]
  },
  {
   "cell_type": "code",
   "execution_count": 41,
   "id": "70ce93fa-e8f2-46d5-95bd-4e55448bb909",
   "metadata": {},
   "outputs": [
    {
     "data": {
      "image/png": "[encoded data removed]",
      "text/plain": [
       "<Figure size 360x360 with 2 Axes>"
      ]
     },
     "metadata": {
      "needs_background": "light"
     },
     "output_type": "display_data"
    }
   ],
   "source": [
    "from sklearn.metrics import confusion_matrix\n",
    "import seaborn as sns\n",
    "\n",
    "lstm_val = confusion_matrix(rounded_labels, yhat_classes)\n",
    "f, ax = plt.subplots(figsize=(5,5))\n",
    "sns.heatmap(lstm_val, annot=True, linewidth=0.7, linecolor='cyan', fmt='g', ax=ax, cmap=\"BuPu\")\n",
    "plt.title('LSTM Classification Confusion Matrix')\n",
    "plt.xlabel('Y predict')\n",
    "plt.ylabel('Y test')\n",
    "plt.show()"
   ]
  },
  {
   "cell_type": "markdown",
   "id": "57e254ca-cacb-432c-8952-2c76048643b8",
   "metadata": {},
   "source": [
    "## Validation"
   ]
  },
  {
   "cell_type": "code",
   "execution_count": 42,
   "id": "8eb1b43e-faee-4206-a8f3-56e89ffb13d7",
   "metadata": {},
   "outputs": [
    {
     "name": "stdout",
     "output_type": "stream",
     "text": [
      "4/4 [==============================] - 0s 38ms/step - loss: 1.1098 - acc: 0.6325\n",
      "score: 1.11\n",
      "acc: 0.63\n"
     ]
    }
   ],
   "source": [
    "validation_size = 610\n",
    "\n",
    "X_validate = X_test[-validation_size:]\n",
    "Y_validate = Y_test[-validation_size:]\n",
    "X_test = X_test[:-validation_size]\n",
    "Y_test = Y_test[:-validation_size]\n",
    "score,acc = model.evaluate(X_test, Y_test, verbose = 1, batch_size = batch_size)\n",
    "\n",
    "print(\"score: %.2f\" % (score))\n",
    "print(\"acc: %.2f\" % (acc))"
   ]
  },
  {
   "cell_type": "code",
   "execution_count": 43,
   "id": "66e37ca9-455e-46c9-a51b-070697da1902",
   "metadata": {},
   "outputs": [],
   "source": [
    "model.save('Mymodel.h5')"
   ]
  },
  {
   "cell_type": "code",
   "execution_count": 44,
   "id": "aeb0c1a9-8e3b-42c8-9b37-0a77da9cb7e1",
   "metadata": {},
   "outputs": [
    {
     "name": "stdout",
     "output_type": "stream",
     "text": [
      "[[0.83215356 0.03914655 0.12869988]] 0\n"
     ]
    }
   ],
   "source": [
    "message = ['Congratulations! you have won a $1,000 Walmart gift card']\n",
    "seq = tokenizer.texts_to_sequences(message)\n",
    "\n",
    "padded = pad_sequences(seq, maxlen=X.shape[1], dtype='int32', value=0)\n",
    "\n",
    "pred = model.predict(padded)\n",
    "\n",
    "labels = ['0','1','2']\n",
    "print(pred, labels[np.argmax(pred)])"
   ]
  },
  {
   "cell_type": "code",
   "execution_count": 45,
   "id": "8cd0fb2a-84f2-4198-9a7c-1d6c4f7988e1",
   "metadata": {},
   "outputs": [
    {
     "name": "stdout",
     "output_type": "stream",
     "text": [
      "[[9.9962038e-01 1.5272305e-04 2.2686634e-04]] 0\n"
     ]
    }
   ],
   "source": [
    "message = ['such massive asteroid hit will certainly create new business opportunities']\n",
    "seq = tokenizer.texts_to_sequences(message)\n",
    "\n",
    "padded = pad_sequences(seq, maxlen=X.shape[1], dtype='int32', value=0)\n",
    "\n",
    "pred = model.predict(padded)\n",
    "\n",
    "labels = ['0','1','2']\n",
    "print(pred, labels[np.argmax(pred)])"
   ]
  },
  {
   "cell_type": "code",
   "execution_count": 46,
   "id": "47ce8f14-77e5-4f8b-8fa5-09fd35e6a719",
   "metadata": {},
   "outputs": [
    {
     "name": "stdout",
     "output_type": "stream",
     "text": [
      "[[2.5933597e-04 9.9891412e-01 8.2650164e-04]] 1\n"
     ]
    }
   ],
   "source": [
    "message = ['so does anyone else not open Snapchat anymore ? or is it just me ... ugh this so sad.']\n",
    "seq = tokenizer.texts_to_sequences(message)\n",
    "\n",
    "padded = pad_sequences(seq, maxlen=X.shape[1], dtype='int32', value=0)\n",
    "\n",
    "pred = model.predict(padded)\n",
    "\n",
    "labels = ['0','1','2']\n",
    "print(pred, labels[np.argmax(pred)])"
   ]
  },
  {
   "cell_type": "code",
   "execution_count": 47,
   "id": "02c5f4c2-5ea7-43c3-936c-8deeb5221fd2",
   "metadata": {},
   "outputs": [
    {
     "name": "stdout",
     "output_type": "stream",
     "text": [
      "[[0.01778973 0.5879715  0.39423886]] 1\n"
     ]
    }
   ],
   "source": [
    "message = ['@elonmusk had a terrible experience with a very pushy sales guy from tesla Stanford shop while shopping for model x']\n",
    "seq = tokenizer.texts_to_sequences(message)\n",
    "\n",
    "padded = pad_sequences(seq, maxlen=X.shape[1], dtype='int32', value=0)\n",
    "\n",
    "pred = model.predict(padded)\n",
    "\n",
    "labels = ['0','1','2']\n",
    "print(pred, labels[np.argmax(pred)])"
   ]
  },
  {
   "cell_type": "code",
   "execution_count": 48,
   "id": "07589b1d-f568-408b-a531-6de1970d4992",
   "metadata": {},
   "outputs": [
    {
     "name": "stdout",
     "output_type": "stream",
     "text": [
      "[[3.5030535e-08 9.9999976e-01 1.5296010e-07]] 1\n"
     ]
    }
   ],
   "source": [
    "message = ['The local electronics industry is expected to remain stable amid layoff concerns surrounding Japanese electronics giants operating in the country, an official says.']\n",
    "seq = tokenizer.texts_to_sequences(message)\n",
    "\n",
    "padded = pad_sequences(seq, maxlen=X.shape[1], dtype='int32', value=0)\n",
    "\n",
    "pred = model.predict(padded)\n",
    "\n",
    "labels = ['0','1','2']\n",
    "print(pred, labels[np.argmax(pred)])"
   ]
  },
  {
   "cell_type": "code",
   "execution_count": 49,
   "id": "3e060a28-2b1d-452e-9323-d3f4eee8adfe",
   "metadata": {},
   "outputs": [
    {
     "name": "stdout",
     "output_type": "stream",
     "text": [
      "[[0.01068473 0.00320531 0.98610985]] 2\n"
     ]
    }
   ],
   "source": [
    "message = ['The local electronics industry is amid layoff concerns and last year has laid off tens of employees']\n",
    "seq = tokenizer.texts_to_sequences(message)\n",
    "\n",
    "padded = pad_sequences(seq, maxlen=X.shape[1], dtype='int32', value=0)\n",
    "\n",
    "pred = model.predict(padded)\n",
    "\n",
    "labels = ['0','1','2']\n",
    "print(pred, labels[np.argmax(pred)])\n"
   ]
  },
  {
   "cell_type": "code",
   "execution_count": null,
   "id": "7ea5c6b6-e2c3-4cee-be8e-6e260f11e5a8",
   "metadata": {},
   "outputs": [],
   "source": []
  }
 ],
 "metadata": {
  "kernelspec": {
   "display_name": "Python 3.9 (tensorflow_2_6_0)",
   "language": "python",
   "name": "tensorflow_2_6_0"
  },
  "language_info": {
   "codemirror_mode": {
    "name": "ipython",
    "version": 3
   },
   "file_extension": ".py",
   "mimetype": "text/x-python",
   "name": "python",
   "nbconvert_exporter": "python",
   "pygments_lexer": "ipython3",
   "version": "3.9.7"
  }
 },
 "nbformat": 4,
 "nbformat_minor": 5
}
