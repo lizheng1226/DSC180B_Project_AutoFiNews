{
 "cells": [
  {
   "cell_type": "code",
   "execution_count": 1,
   "id": "0964f86b",
   "metadata": {},
   "outputs": [],
   "source": [
    "# Package Imports\n",
    "import pandas as pd\n",
    "import numpy as np\n",
    "import datetime"
   ]
  },
  {
   "cell_type": "markdown",
   "id": "105d2d2b",
   "metadata": {},
   "source": [
    "## Single Trial AAPL"
   ]
  },
  {
   "cell_type": "code",
   "execution_count": 2,
   "id": "23fde150",
   "metadata": {},
   "outputs": [],
   "source": [
    "data = pd.read_csv('csv/AAPL.csv')"
   ]
  },
  {
   "cell_type": "code",
   "execution_count": 3,
   "id": "b5213067",
   "metadata": {
    "scrolled": true
   },
   "outputs": [
    {
     "data": {
      "text/html": [
       "<div>\n",
       "<style scoped>\n",
       "    .dataframe tbody tr th:only-of-type {\n",
       "        vertical-align: middle;\n",
       "    }\n",
       "\n",
       "    .dataframe tbody tr th {\n",
       "        vertical-align: top;\n",
       "    }\n",
       "\n",
       "    .dataframe thead th {\n",
       "        text-align: right;\n",
       "    }\n",
       "</style>\n",
       "<table border=\"1\" class=\"dataframe\">\n",
       "  <thead>\n",
       "    <tr style=\"text-align: right;\">\n",
       "      <th></th>\n",
       "      <th>Date</th>\n",
       "      <th>Low</th>\n",
       "      <th>Open</th>\n",
       "      <th>Volume</th>\n",
       "      <th>High</th>\n",
       "      <th>Close</th>\n",
       "      <th>Adjusted Close</th>\n",
       "    </tr>\n",
       "  </thead>\n",
       "  <tbody>\n",
       "    <tr>\n",
       "      <th>0</th>\n",
       "      <td>12-12-1980</td>\n",
       "      <td>0.128348</td>\n",
       "      <td>0.128348</td>\n",
       "      <td>469033600</td>\n",
       "      <td>0.128906</td>\n",
       "      <td>0.128348</td>\n",
       "      <td>0.100453</td>\n",
       "    </tr>\n",
       "    <tr>\n",
       "      <th>1</th>\n",
       "      <td>15-12-1980</td>\n",
       "      <td>0.121652</td>\n",
       "      <td>0.122210</td>\n",
       "      <td>175884800</td>\n",
       "      <td>0.122210</td>\n",
       "      <td>0.121652</td>\n",
       "      <td>0.095213</td>\n",
       "    </tr>\n",
       "    <tr>\n",
       "      <th>2</th>\n",
       "      <td>16-12-1980</td>\n",
       "      <td>0.112723</td>\n",
       "      <td>0.113281</td>\n",
       "      <td>105728000</td>\n",
       "      <td>0.113281</td>\n",
       "      <td>0.112723</td>\n",
       "      <td>0.088224</td>\n",
       "    </tr>\n",
       "    <tr>\n",
       "      <th>3</th>\n",
       "      <td>17-12-1980</td>\n",
       "      <td>0.115513</td>\n",
       "      <td>0.115513</td>\n",
       "      <td>86441600</td>\n",
       "      <td>0.116071</td>\n",
       "      <td>0.115513</td>\n",
       "      <td>0.090408</td>\n",
       "    </tr>\n",
       "    <tr>\n",
       "      <th>4</th>\n",
       "      <td>18-12-1980</td>\n",
       "      <td>0.118862</td>\n",
       "      <td>0.118862</td>\n",
       "      <td>73449600</td>\n",
       "      <td>0.119420</td>\n",
       "      <td>0.118862</td>\n",
       "      <td>0.093029</td>\n",
       "    </tr>\n",
       "    <tr>\n",
       "      <th>...</th>\n",
       "      <td>...</td>\n",
       "      <td>...</td>\n",
       "      <td>...</td>\n",
       "      <td>...</td>\n",
       "      <td>...</td>\n",
       "      <td>...</td>\n",
       "      <td>...</td>\n",
       "    </tr>\n",
       "    <tr>\n",
       "      <th>10339</th>\n",
       "      <td>14-12-2021</td>\n",
       "      <td>172.210007</td>\n",
       "      <td>175.250000</td>\n",
       "      <td>139380400</td>\n",
       "      <td>177.740005</td>\n",
       "      <td>174.330002</td>\n",
       "      <td>174.330002</td>\n",
       "    </tr>\n",
       "    <tr>\n",
       "      <th>10340</th>\n",
       "      <td>15-12-2021</td>\n",
       "      <td>172.309998</td>\n",
       "      <td>175.110001</td>\n",
       "      <td>131063300</td>\n",
       "      <td>179.500000</td>\n",
       "      <td>179.300003</td>\n",
       "      <td>179.300003</td>\n",
       "    </tr>\n",
       "    <tr>\n",
       "      <th>10341</th>\n",
       "      <td>16-12-2021</td>\n",
       "      <td>170.750000</td>\n",
       "      <td>179.279999</td>\n",
       "      <td>150185800</td>\n",
       "      <td>181.139999</td>\n",
       "      <td>172.259995</td>\n",
       "      <td>172.259995</td>\n",
       "    </tr>\n",
       "    <tr>\n",
       "      <th>10342</th>\n",
       "      <td>17-12-2021</td>\n",
       "      <td>169.690002</td>\n",
       "      <td>169.929993</td>\n",
       "      <td>195432700</td>\n",
       "      <td>173.470001</td>\n",
       "      <td>171.139999</td>\n",
       "      <td>171.139999</td>\n",
       "    </tr>\n",
       "    <tr>\n",
       "      <th>10343</th>\n",
       "      <td>20-12-2021</td>\n",
       "      <td>167.470001</td>\n",
       "      <td>168.279999</td>\n",
       "      <td>51533327</td>\n",
       "      <td>170.580002</td>\n",
       "      <td>170.289993</td>\n",
       "      <td>170.289993</td>\n",
       "    </tr>\n",
       "  </tbody>\n",
       "</table>\n",
       "<p>10344 rows × 7 columns</p>\n",
       "</div>"
      ],
      "text/plain": [
       "             Date         Low        Open     Volume        High       Close  \\\n",
       "0      12-12-1980    0.128348    0.128348  469033600    0.128906    0.128348   \n",
       "1      15-12-1980    0.121652    0.122210  175884800    0.122210    0.121652   \n",
       "2      16-12-1980    0.112723    0.113281  105728000    0.113281    0.112723   \n",
       "3      17-12-1980    0.115513    0.115513   86441600    0.116071    0.115513   \n",
       "4      18-12-1980    0.118862    0.118862   73449600    0.119420    0.118862   \n",
       "...           ...         ...         ...        ...         ...         ...   \n",
       "10339  14-12-2021  172.210007  175.250000  139380400  177.740005  174.330002   \n",
       "10340  15-12-2021  172.309998  175.110001  131063300  179.500000  179.300003   \n",
       "10341  16-12-2021  170.750000  179.279999  150185800  181.139999  172.259995   \n",
       "10342  17-12-2021  169.690002  169.929993  195432700  173.470001  171.139999   \n",
       "10343  20-12-2021  167.470001  168.279999   51533327  170.580002  170.289993   \n",
       "\n",
       "       Adjusted Close  \n",
       "0            0.100453  \n",
       "1            0.095213  \n",
       "2            0.088224  \n",
       "3            0.090408  \n",
       "4            0.093029  \n",
       "...               ...  \n",
       "10339      174.330002  \n",
       "10340      179.300003  \n",
       "10341      172.259995  \n",
       "10342      171.139999  \n",
       "10343      170.289993  \n",
       "\n",
       "[10344 rows x 7 columns]"
      ]
     },
     "execution_count": 3,
     "metadata": {},
     "output_type": "execute_result"
    }
   ],
   "source": [
    "data"
   ]
  },
  {
   "cell_type": "markdown",
   "id": "df57e9e3",
   "metadata": {},
   "source": [
    "#### Will only keep Data and Adjusted Close"
   ]
  },
  {
   "cell_type": "code",
   "execution_count": 4,
   "id": "5abc43ae",
   "metadata": {},
   "outputs": [
    {
     "data": {
      "text/html": [
       "<div>\n",
       "<style scoped>\n",
       "    .dataframe tbody tr th:only-of-type {\n",
       "        vertical-align: middle;\n",
       "    }\n",
       "\n",
       "    .dataframe tbody tr th {\n",
       "        vertical-align: top;\n",
       "    }\n",
       "\n",
       "    .dataframe thead th {\n",
       "        text-align: right;\n",
       "    }\n",
       "</style>\n",
       "<table border=\"1\" class=\"dataframe\">\n",
       "  <thead>\n",
       "    <tr style=\"text-align: right;\">\n",
       "      <th></th>\n",
       "      <th>Date</th>\n",
       "      <th>Adjusted Close</th>\n",
       "    </tr>\n",
       "  </thead>\n",
       "  <tbody>\n",
       "    <tr>\n",
       "      <th>0</th>\n",
       "      <td>12-12-1980</td>\n",
       "      <td>0.100453</td>\n",
       "    </tr>\n",
       "    <tr>\n",
       "      <th>1</th>\n",
       "      <td>15-12-1980</td>\n",
       "      <td>0.095213</td>\n",
       "    </tr>\n",
       "    <tr>\n",
       "      <th>2</th>\n",
       "      <td>16-12-1980</td>\n",
       "      <td>0.088224</td>\n",
       "    </tr>\n",
       "    <tr>\n",
       "      <th>3</th>\n",
       "      <td>17-12-1980</td>\n",
       "      <td>0.090408</td>\n",
       "    </tr>\n",
       "    <tr>\n",
       "      <th>4</th>\n",
       "      <td>18-12-1980</td>\n",
       "      <td>0.093029</td>\n",
       "    </tr>\n",
       "  </tbody>\n",
       "</table>\n",
       "</div>"
      ],
      "text/plain": [
       "         Date  Adjusted Close\n",
       "0  12-12-1980        0.100453\n",
       "1  15-12-1980        0.095213\n",
       "2  16-12-1980        0.088224\n",
       "3  17-12-1980        0.090408\n",
       "4  18-12-1980        0.093029"
      ]
     },
     "execution_count": 4,
     "metadata": {},
     "output_type": "execute_result"
    }
   ],
   "source": [
    "data = data[['Date','Adjusted Close']]\n",
    "data.head()"
   ]
  },
  {
   "cell_type": "markdown",
   "id": "8c5c35ec",
   "metadata": {},
   "source": [
    "AAPL report dates:\n",
    "10/29/2021\n",
    "10/19/2021\n",
    "9/15/2021\n",
    "7/28/2021\n",
    "6/11/2021\n",
    "4/29/2021\n",
    "1/28/2021\n",
    "10/30/2020"
   ]
  },
  {
   "cell_type": "code",
   "execution_count": 5,
   "id": "9ca298f7",
   "metadata": {},
   "outputs": [],
   "source": [
    "# Need convert date format\n",
    "convert = lambda x : datetime.datetime.strptime(x, '%d-%m-%Y').strftime('%Y-%m-%d')"
   ]
  },
  {
   "cell_type": "code",
   "execution_count": 6,
   "id": "f49d40a7",
   "metadata": {},
   "outputs": [
    {
     "data": {
      "text/plain": [
       "'2020-10-30'"
      ]
     },
     "execution_count": 6,
     "metadata": {},
     "output_type": "execute_result"
    }
   ],
   "source": [
    "convert('30-10-2020')"
   ]
  },
  {
   "cell_type": "code",
   "execution_count": 7,
   "id": "60585049",
   "metadata": {},
   "outputs": [
    {
     "name": "stderr",
     "output_type": "stream",
     "text": [
      "/var/folders/lp/vfvt67_51bb90pl2wfgm0x8m0000gn/T/ipykernel_4731/3080872853.py:1: SettingWithCopyWarning: \n",
      "A value is trying to be set on a copy of a slice from a DataFrame.\n",
      "Try using .loc[row_indexer,col_indexer] = value instead\n",
      "\n",
      "See the caveats in the documentation: https://pandas.pydata.org/pandas-docs/stable/user_guide/indexing.html#returning-a-view-versus-a-copy\n",
      "  data['Date'] = data['Date'].apply(convert)\n"
     ]
    }
   ],
   "source": [
    "data['Date'] = data['Date'].apply(convert)"
   ]
  },
  {
   "cell_type": "code",
   "execution_count": 8,
   "id": "8107d2c3",
   "metadata": {},
   "outputs": [
    {
     "data": {
      "text/html": [
       "<div>\n",
       "<style scoped>\n",
       "    .dataframe tbody tr th:only-of-type {\n",
       "        vertical-align: middle;\n",
       "    }\n",
       "\n",
       "    .dataframe tbody tr th {\n",
       "        vertical-align: top;\n",
       "    }\n",
       "\n",
       "    .dataframe thead th {\n",
       "        text-align: right;\n",
       "    }\n",
       "</style>\n",
       "<table border=\"1\" class=\"dataframe\">\n",
       "  <thead>\n",
       "    <tr style=\"text-align: right;\">\n",
       "      <th></th>\n",
       "      <th>Date</th>\n",
       "      <th>Adjusted Close</th>\n",
       "    </tr>\n",
       "  </thead>\n",
       "  <tbody>\n",
       "    <tr>\n",
       "      <th>0</th>\n",
       "      <td>1980-12-12</td>\n",
       "      <td>0.100453</td>\n",
       "    </tr>\n",
       "    <tr>\n",
       "      <th>1</th>\n",
       "      <td>1980-12-15</td>\n",
       "      <td>0.095213</td>\n",
       "    </tr>\n",
       "    <tr>\n",
       "      <th>2</th>\n",
       "      <td>1980-12-16</td>\n",
       "      <td>0.088224</td>\n",
       "    </tr>\n",
       "    <tr>\n",
       "      <th>3</th>\n",
       "      <td>1980-12-17</td>\n",
       "      <td>0.090408</td>\n",
       "    </tr>\n",
       "    <tr>\n",
       "      <th>4</th>\n",
       "      <td>1980-12-18</td>\n",
       "      <td>0.093029</td>\n",
       "    </tr>\n",
       "    <tr>\n",
       "      <th>...</th>\n",
       "      <td>...</td>\n",
       "      <td>...</td>\n",
       "    </tr>\n",
       "    <tr>\n",
       "      <th>10339</th>\n",
       "      <td>2021-12-14</td>\n",
       "      <td>174.330002</td>\n",
       "    </tr>\n",
       "    <tr>\n",
       "      <th>10340</th>\n",
       "      <td>2021-12-15</td>\n",
       "      <td>179.300003</td>\n",
       "    </tr>\n",
       "    <tr>\n",
       "      <th>10341</th>\n",
       "      <td>2021-12-16</td>\n",
       "      <td>172.259995</td>\n",
       "    </tr>\n",
       "    <tr>\n",
       "      <th>10342</th>\n",
       "      <td>2021-12-17</td>\n",
       "      <td>171.139999</td>\n",
       "    </tr>\n",
       "    <tr>\n",
       "      <th>10343</th>\n",
       "      <td>2021-12-20</td>\n",
       "      <td>170.289993</td>\n",
       "    </tr>\n",
       "  </tbody>\n",
       "</table>\n",
       "<p>10344 rows × 2 columns</p>\n",
       "</div>"
      ],
      "text/plain": [
       "             Date  Adjusted Close\n",
       "0      1980-12-12        0.100453\n",
       "1      1980-12-15        0.095213\n",
       "2      1980-12-16        0.088224\n",
       "3      1980-12-17        0.090408\n",
       "4      1980-12-18        0.093029\n",
       "...           ...             ...\n",
       "10339  2021-12-14      174.330002\n",
       "10340  2021-12-15      179.300003\n",
       "10341  2021-12-16      172.259995\n",
       "10342  2021-12-17      171.139999\n",
       "10343  2021-12-20      170.289993\n",
       "\n",
       "[10344 rows x 2 columns]"
      ]
     },
     "execution_count": 8,
     "metadata": {},
     "output_type": "execute_result"
    }
   ],
   "source": [
    "data"
   ]
  },
  {
   "cell_type": "code",
   "execution_count": 9,
   "id": "b43b2b33",
   "metadata": {},
   "outputs": [],
   "source": [
    "# Since we are looking data after 10/30/2020, drop irrelavant dates\n",
    "#idx = data.index[data['Date'] == '2020-10-30'][0]\n",
    "#data = data[idx:]\n",
    "#data.head()"
   ]
  },
  {
   "cell_type": "code",
   "execution_count": 10,
   "id": "51492168",
   "metadata": {},
   "outputs": [
    {
     "data": {
      "text/plain": [
       "0.09564923495054238"
      ]
     },
     "execution_count": 10,
     "metadata": {},
     "output_type": "execute_result"
    }
   ],
   "source": [
    "# time range for 7-days, 14-days, 30-days, 90-days\n",
    "#data = data.reset_index()\n",
    "# 7 weekdays\n",
    "t = 7\n",
    "idx_s = 0\n",
    "idx_e = idx_s + t\n",
    "data_ = data[idx_s:idx_e]\n",
    "mean_ = np.mean(data_['Adjusted Close'])\n",
    "mean_"
   ]
  },
  {
   "cell_type": "code",
   "execution_count": 11,
   "id": "4ed6ed16",
   "metadata": {},
   "outputs": [],
   "source": [
    "# Wrap into functions\n",
    "def find_ind(data, date):\n",
    "    return data.index[data['Date'] == date][0]"
   ]
  },
  {
   "cell_type": "code",
   "execution_count": 12,
   "id": "da068c58",
   "metadata": {},
   "outputs": [],
   "source": [
    "# Wrap into functions\n",
    "def fetch_means(date, data, t_range_list):\n",
    "    idx_s = find_ind(data,date)\n",
    "    p = data['Adjusted Close'][idx_s]\n",
    "    d = dict()\n",
    "    d['Initial Price'] = p\n",
    "    for i in t_range_list[1:]:\n",
    "        t = i\n",
    "        idx_e = idx_s + t\n",
    "        data_ = data[idx_s:idx_e]\n",
    "        mean_ = np.mean(data_['Adjusted Close'])\n",
    "        d[str(t)+' days'] = mean_\n",
    "        if mean_ > p :\n",
    "            d[str(t)+' days label'] = True\n",
    "        else:\n",
    "            d[str(t)+' days label'] = False\n",
    "    return d"
   ]
  },
  {
   "cell_type": "code",
   "execution_count": 13,
   "id": "7c20c3cc",
   "metadata": {},
   "outputs": [
    {
     "data": {
      "text/plain": [
       "{'Initial Price': 108.00666809082033,\n",
       " '5 days': 111.52884521484376,\n",
       " '5 days label': True,\n",
       " '10 days': 114.37112503051758,\n",
       " '10 days label': True,\n",
       " '20 days': 115.55572280883788,\n",
       " '20 days label': True,\n",
       " '60 days': 124.2913038889567,\n",
       " '60 days label': True}"
      ]
     },
     "execution_count": 13,
     "metadata": {},
     "output_type": "execute_result"
    }
   ],
   "source": [
    "fetch_means('2020-10-30',data,[1,5,10,20,60])"
   ]
  },
  {
   "cell_type": "code",
   "execution_count": 35,
   "id": "6b70fe97",
   "metadata": {},
   "outputs": [],
   "source": [
    "time_lists = ['10/29/2021', '10/19/2021', '9/15/2021', '7/28/2021', '6/11/2021', '4/29/2021', '1/28/2021', '10/30/2020']"
   ]
  },
  {
   "cell_type": "code",
   "execution_count": 25,
   "id": "ecdc2578",
   "metadata": {},
   "outputs": [],
   "source": [
    "time_lists = ['2021-08-30', '2021-08-26', '2021-08-17', '2021-09-28',\n",
    "       '2021-09-01', '2021-09-14', '2021-09-20', '2021-10-04',\n",
    "       '2021-10-05', '2021-06-22']"
   ]
  },
  {
   "cell_type": "code",
   "execution_count": 36,
   "id": "30e505c6",
   "metadata": {},
   "outputs": [],
   "source": [
    "a_con = lambda x : datetime.datetime.strptime(x, '%m/%d/%Y').strftime('%Y-%m-%d')"
   ]
  },
  {
   "cell_type": "code",
   "execution_count": 44,
   "id": "671dd37d",
   "metadata": {},
   "outputs": [],
   "source": [
    "time_list = [a_con(i) for i in time_lists]\n",
    "time_list = sorted(time_list)"
   ]
  },
  {
   "cell_type": "code",
   "execution_count": 45,
   "id": "e8d689b0",
   "metadata": {},
   "outputs": [
    {
     "data": {
      "text/plain": [
       "['2020-10-30',\n",
       " '2021-01-28',\n",
       " '2021-04-29',\n",
       " '2021-06-11',\n",
       " '2021-07-28',\n",
       " '2021-09-15',\n",
       " '2021-10-19',\n",
       " '2021-10-29']"
      ]
     },
     "execution_count": 45,
     "metadata": {},
     "output_type": "execute_result"
    }
   ],
   "source": [
    "time_list"
   ]
  },
  {
   "cell_type": "code",
   "execution_count": 46,
   "id": "c515e9b7",
   "metadata": {},
   "outputs": [],
   "source": [
    "aapl = dict()\n",
    "for i in time_list:\n",
    "    aapl[i] = fetch_means(i,data,[1,5,10,20,60])"
   ]
  },
  {
   "cell_type": "code",
   "execution_count": 47,
   "id": "c8e7610e",
   "metadata": {},
   "outputs": [
    {
     "data": {
      "text/html": [
       "<div>\n",
       "<style scoped>\n",
       "    .dataframe tbody tr th:only-of-type {\n",
       "        vertical-align: middle;\n",
       "    }\n",
       "\n",
       "    .dataframe tbody tr th {\n",
       "        vertical-align: top;\n",
       "    }\n",
       "\n",
       "    .dataframe thead th {\n",
       "        text-align: right;\n",
       "    }\n",
       "</style>\n",
       "<table border=\"1\" class=\"dataframe\">\n",
       "  <thead>\n",
       "    <tr style=\"text-align: right;\">\n",
       "      <th></th>\n",
       "      <th>Date</th>\n",
       "      <th>Adjusted Close</th>\n",
       "    </tr>\n",
       "  </thead>\n",
       "  <tbody>\n",
       "    <tr>\n",
       "      <th>0</th>\n",
       "      <td>1980-12-12</td>\n",
       "      <td>0.100453</td>\n",
       "    </tr>\n",
       "    <tr>\n",
       "      <th>1</th>\n",
       "      <td>1980-12-15</td>\n",
       "      <td>0.095213</td>\n",
       "    </tr>\n",
       "    <tr>\n",
       "      <th>2</th>\n",
       "      <td>1980-12-16</td>\n",
       "      <td>0.088224</td>\n",
       "    </tr>\n",
       "    <tr>\n",
       "      <th>3</th>\n",
       "      <td>1980-12-17</td>\n",
       "      <td>0.090408</td>\n",
       "    </tr>\n",
       "    <tr>\n",
       "      <th>4</th>\n",
       "      <td>1980-12-18</td>\n",
       "      <td>0.093029</td>\n",
       "    </tr>\n",
       "    <tr>\n",
       "      <th>...</th>\n",
       "      <td>...</td>\n",
       "      <td>...</td>\n",
       "    </tr>\n",
       "    <tr>\n",
       "      <th>10339</th>\n",
       "      <td>2021-12-14</td>\n",
       "      <td>174.330002</td>\n",
       "    </tr>\n",
       "    <tr>\n",
       "      <th>10340</th>\n",
       "      <td>2021-12-15</td>\n",
       "      <td>179.300003</td>\n",
       "    </tr>\n",
       "    <tr>\n",
       "      <th>10341</th>\n",
       "      <td>2021-12-16</td>\n",
       "      <td>172.259995</td>\n",
       "    </tr>\n",
       "    <tr>\n",
       "      <th>10342</th>\n",
       "      <td>2021-12-17</td>\n",
       "      <td>171.139999</td>\n",
       "    </tr>\n",
       "    <tr>\n",
       "      <th>10343</th>\n",
       "      <td>2021-12-20</td>\n",
       "      <td>170.289993</td>\n",
       "    </tr>\n",
       "  </tbody>\n",
       "</table>\n",
       "<p>10344 rows × 2 columns</p>\n",
       "</div>"
      ],
      "text/plain": [
       "             Date  Adjusted Close\n",
       "0      1980-12-12        0.100453\n",
       "1      1980-12-15        0.095213\n",
       "2      1980-12-16        0.088224\n",
       "3      1980-12-17        0.090408\n",
       "4      1980-12-18        0.093029\n",
       "...           ...             ...\n",
       "10339  2021-12-14      174.330002\n",
       "10340  2021-12-15      179.300003\n",
       "10341  2021-12-16      172.259995\n",
       "10342  2021-12-17      171.139999\n",
       "10343  2021-12-20      170.289993\n",
       "\n",
       "[10344 rows x 2 columns]"
      ]
     },
     "execution_count": 47,
     "metadata": {},
     "output_type": "execute_result"
    }
   ],
   "source": [
    "data"
   ]
  },
  {
   "cell_type": "code",
   "execution_count": 48,
   "id": "bc6912db",
   "metadata": {},
   "outputs": [
    {
     "data": {
      "text/html": [
       "<div>\n",
       "<style scoped>\n",
       "    .dataframe tbody tr th:only-of-type {\n",
       "        vertical-align: middle;\n",
       "    }\n",
       "\n",
       "    .dataframe tbody tr th {\n",
       "        vertical-align: top;\n",
       "    }\n",
       "\n",
       "    .dataframe thead th {\n",
       "        text-align: right;\n",
       "    }\n",
       "</style>\n",
       "<table border=\"1\" class=\"dataframe\">\n",
       "  <thead>\n",
       "    <tr style=\"text-align: right;\">\n",
       "      <th></th>\n",
       "      <th>Initial Price</th>\n",
       "      <th>5 days</th>\n",
       "      <th>5 days label</th>\n",
       "      <th>10 days</th>\n",
       "      <th>10 days label</th>\n",
       "      <th>20 days</th>\n",
       "      <th>20 days label</th>\n",
       "      <th>60 days</th>\n",
       "      <th>60 days label</th>\n",
       "    </tr>\n",
       "  </thead>\n",
       "  <tbody>\n",
       "    <tr>\n",
       "      <th>2020-10-30</th>\n",
       "      <td>108.006668</td>\n",
       "      <td>111.528845</td>\n",
       "      <td>True</td>\n",
       "      <td>114.371125</td>\n",
       "      <td>True</td>\n",
       "      <td>115.555723</td>\n",
       "      <td>True</td>\n",
       "      <td>124.291304</td>\n",
       "      <td>True</td>\n",
       "    </tr>\n",
       "    <tr>\n",
       "      <th>2021-01-28</th>\n",
       "      <td>136.250031</td>\n",
       "      <td>133.600375</td>\n",
       "      <td>False</td>\n",
       "      <td>134.708992</td>\n",
       "      <td>False</td>\n",
       "      <td>131.67006</td>\n",
       "      <td>False</td>\n",
       "      <td>127.246951</td>\n",
       "      <td>False</td>\n",
       "    </tr>\n",
       "    <tr>\n",
       "      <th>2021-04-29</th>\n",
       "      <td>132.860397</td>\n",
       "      <td>130.079375</td>\n",
       "      <td>False</td>\n",
       "      <td>128.378212</td>\n",
       "      <td>False</td>\n",
       "      <td>127.093913</td>\n",
       "      <td>False</td>\n",
       "      <td>132.508986</td>\n",
       "      <td>False</td>\n",
       "    </tr>\n",
       "    <tr>\n",
       "      <th>2021-06-11</th>\n",
       "      <td>126.974167</td>\n",
       "      <td>129.498694</td>\n",
       "      <td>True</td>\n",
       "      <td>130.938434</td>\n",
       "      <td>True</td>\n",
       "      <td>134.93112</td>\n",
       "      <td>True</td>\n",
       "      <td>143.36623</td>\n",
       "      <td>True</td>\n",
       "    </tr>\n",
       "    <tr>\n",
       "      <th>2021-07-28</th>\n",
       "      <td>144.552139</td>\n",
       "      <td>145.441504</td>\n",
       "      <td>True</td>\n",
       "      <td>145.754178</td>\n",
       "      <td>True</td>\n",
       "      <td>147.055829</td>\n",
       "      <td>True</td>\n",
       "      <td>146.765451</td>\n",
       "      <td>True</td>\n",
       "    </tr>\n",
       "    <tr>\n",
       "      <th>2021-09-15</th>\n",
       "      <td>148.812805</td>\n",
       "      <td>145.837149</td>\n",
       "      <td>False</td>\n",
       "      <td>145.500644</td>\n",
       "      <td>False</td>\n",
       "      <td>143.633871</td>\n",
       "      <td>False</td>\n",
       "      <td>150.52918</td>\n",
       "      <td>True</td>\n",
       "    </tr>\n",
       "    <tr>\n",
       "      <th>2021-10-19</th>\n",
       "      <td>148.543198</td>\n",
       "      <td>148.748904</td>\n",
       "      <td>True</td>\n",
       "      <td>149.215228</td>\n",
       "      <td>True</td>\n",
       "      <td>149.613645</td>\n",
       "      <td>True</td>\n",
       "      <td>158.657339</td>\n",
       "      <td>True</td>\n",
       "    </tr>\n",
       "    <tr>\n",
       "      <th>2021-10-29</th>\n",
       "      <td>149.581696</td>\n",
       "      <td>150.027048</td>\n",
       "      <td>True</td>\n",
       "      <td>149.845523</td>\n",
       "      <td>True</td>\n",
       "      <td>153.126762</td>\n",
       "      <td>True</td>\n",
       "      <td>160.752646</td>\n",
       "      <td>True</td>\n",
       "    </tr>\n",
       "  </tbody>\n",
       "</table>\n",
       "</div>"
      ],
      "text/plain": [
       "           Initial Price      5 days 5 days label     10 days 10 days label  \\\n",
       "2020-10-30    108.006668  111.528845         True  114.371125          True   \n",
       "2021-01-28    136.250031  133.600375        False  134.708992         False   \n",
       "2021-04-29    132.860397  130.079375        False  128.378212         False   \n",
       "2021-06-11    126.974167  129.498694         True  130.938434          True   \n",
       "2021-07-28    144.552139  145.441504         True  145.754178          True   \n",
       "2021-09-15    148.812805  145.837149        False  145.500644         False   \n",
       "2021-10-19    148.543198  148.748904         True  149.215228          True   \n",
       "2021-10-29    149.581696  150.027048         True  149.845523          True   \n",
       "\n",
       "               20 days 20 days label     60 days 60 days label  \n",
       "2020-10-30  115.555723          True  124.291304          True  \n",
       "2021-01-28   131.67006         False  127.246951         False  \n",
       "2021-04-29  127.093913         False  132.508986         False  \n",
       "2021-06-11   134.93112          True   143.36623          True  \n",
       "2021-07-28  147.055829          True  146.765451          True  \n",
       "2021-09-15  143.633871         False   150.52918          True  \n",
       "2021-10-19  149.613645          True  158.657339          True  \n",
       "2021-10-29  153.126762          True  160.752646          True  "
      ]
     },
     "execution_count": 48,
     "metadata": {},
     "output_type": "execute_result"
    }
   ],
   "source": [
    "AAPL_df = pd.DataFrame(aapl)\n",
    "AAPL_df.T"
   ]
  },
  {
   "cell_type": "code",
   "execution_count": 50,
   "id": "e939902f",
   "metadata": {},
   "outputs": [],
   "source": [
    "AAPL_df.to_csv('old_AAPL_labels.csv')"
   ]
  },
  {
   "cell_type": "code",
   "execution_count": null,
   "id": "8786a550",
   "metadata": {},
   "outputs": [],
   "source": []
  },
  {
   "cell_type": "code",
   "execution_count": null,
   "id": "a3bca797",
   "metadata": {},
   "outputs": [],
   "source": []
  },
  {
   "cell_type": "code",
   "execution_count": null,
   "id": "203342b1",
   "metadata": {},
   "outputs": [],
   "source": []
  },
  {
   "cell_type": "code",
   "execution_count": 124,
   "id": "5cda3dce",
   "metadata": {},
   "outputs": [],
   "source": [
    "import matplotlib.pyplot as plt"
   ]
  },
  {
   "cell_type": "code",
   "execution_count": 128,
   "id": "6faf1419",
   "metadata": {},
   "outputs": [
    {
     "data": {
      "text/plain": [
       "<AxesSubplot:>"
      ]
     },
     "execution_count": 128,
     "metadata": {},
     "output_type": "execute_result"
    },
    {
     "data": {
      "image/png": "[encoded data removed]",
      "text/plain": [
       "<Figure size 432x288 with 1 Axes>"
      ]
     },
     "metadata": {
      "needs_background": "light"
     },
     "output_type": "display_data"
    }
   ],
   "source": [
    "data['Adjusted Close'].plot()"
   ]
  },
  {
   "cell_type": "code",
   "execution_count": null,
   "id": "2430ec42",
   "metadata": {},
   "outputs": [],
   "source": []
  }
 ],
 "metadata": {
  "kernelspec": {
   "display_name": "Python 3.9 (tensorflow)",
   "language": "python",
   "name": "tensorflow"
  },
  "language_info": {
   "codemirror_mode": {
    "name": "ipython",
    "version": 3
   },
   "file_extension": ".py",
   "mimetype": "text/x-python",
   "name": "python",
   "nbconvert_exporter": "python",
   "pygments_lexer": "ipython3",
   "version": "3.9.7"
  }
 },
 "nbformat": 4,
 "nbformat_minor": 5
}
